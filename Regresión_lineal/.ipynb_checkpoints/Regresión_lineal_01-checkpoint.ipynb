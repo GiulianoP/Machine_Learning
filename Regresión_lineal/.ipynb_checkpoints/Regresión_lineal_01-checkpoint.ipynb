{
 "cells": [
  {
   "cell_type": "markdown",
   "id": "205f0d99",
   "metadata": {},
   "source": [
    "# Modelos de Regresión Lineal\n",
    "\n",
    "\n",
    "## Modelo con datos simulados\n",
    "* y= a + b * x\n",
    "* X : 100 valores distribuidos según una N(1.5, 2.5) --> normal de media= 1.5 y desviación estandar= 2.5\n",
    "* Ye = 5 + 1.9 * x + e\n",
    "* e estará distribuido según una normal N(0, 0.8)"
   ]
  },
  {
   "cell_type": "code",
   "execution_count": 8,
   "id": "55902394",
   "metadata": {},
   "outputs": [],
   "source": [
    "import pandas as pd\n",
    "import numpy as np\n",
    "import matplotlib.pyplot as plt"
   ]
  },
  {
   "cell_type": "code",
   "execution_count": 2,
   "id": "4c7c7a16",
   "metadata": {},
   "outputs": [],
   "source": [
    "#Se genera la distribución de x\n",
    "x= 1.5 + 2.5 * np.random.randn(100)"
   ]
  },
  {
   "cell_type": "code",
   "execution_count": 3,
   "id": "54489c3a",
   "metadata": {},
   "outputs": [],
   "source": [
    "res= 0 + 0.8 * np.random.randn(100)"
   ]
  },
  {
   "cell_type": "code",
   "execution_count": 4,
   "id": "b4c19b86",
   "metadata": {},
   "outputs": [],
   "source": [
    "y_pred= 5 + 1.9 * x"
   ]
  },
  {
   "cell_type": "code",
   "execution_count": 5,
   "id": "cc751bbb",
   "metadata": {},
   "outputs": [],
   "source": [
    "y_act= 5 + 1.9 * x + res"
   ]
  },
  {
   "cell_type": "code",
   "execution_count": 6,
   "id": "f3de1edf",
   "metadata": {},
   "outputs": [],
   "source": [
    "x_list= x.tolist()\n",
    "y_pred_list= y_pred.tolist()\n",
    "y_act_list= y_act.tolist()"
   ]
  },
  {
   "cell_type": "code",
   "execution_count": 7,
   "id": "688097fb",
   "metadata": {},
   "outputs": [
    {
     "data": {
      "text/html": [
       "<div>\n",
       "<style scoped>\n",
       "    .dataframe tbody tr th:only-of-type {\n",
       "        vertical-align: middle;\n",
       "    }\n",
       "\n",
       "    .dataframe tbody tr th {\n",
       "        vertical-align: top;\n",
       "    }\n",
       "\n",
       "    .dataframe thead th {\n",
       "        text-align: right;\n",
       "    }\n",
       "</style>\n",
       "<table border=\"1\" class=\"dataframe\">\n",
       "  <thead>\n",
       "    <tr style=\"text-align: right;\">\n",
       "      <th></th>\n",
       "      <th>x</th>\n",
       "      <th>y</th>\n",
       "      <th>y_pred</th>\n",
       "    </tr>\n",
       "  </thead>\n",
       "  <tbody>\n",
       "    <tr>\n",
       "      <th>0</th>\n",
       "      <td>-1.118607</td>\n",
       "      <td>2.670581</td>\n",
       "      <td>2.874647</td>\n",
       "    </tr>\n",
       "    <tr>\n",
       "      <th>1</th>\n",
       "      <td>1.703377</td>\n",
       "      <td>7.826669</td>\n",
       "      <td>8.236416</td>\n",
       "    </tr>\n",
       "    <tr>\n",
       "      <th>2</th>\n",
       "      <td>4.996324</td>\n",
       "      <td>14.141414</td>\n",
       "      <td>14.493016</td>\n",
       "    </tr>\n",
       "    <tr>\n",
       "      <th>3</th>\n",
       "      <td>-2.208585</td>\n",
       "      <td>-0.365778</td>\n",
       "      <td>0.803689</td>\n",
       "    </tr>\n",
       "    <tr>\n",
       "      <th>4</th>\n",
       "      <td>0.386370</td>\n",
       "      <td>5.591924</td>\n",
       "      <td>5.734103</td>\n",
       "    </tr>\n",
       "  </tbody>\n",
       "</table>\n",
       "</div>"
      ],
      "text/plain": [
       "          x          y     y_pred\n",
       "0 -1.118607   2.670581   2.874647\n",
       "1  1.703377   7.826669   8.236416\n",
       "2  4.996324  14.141414  14.493016\n",
       "3 -2.208585  -0.365778   0.803689\n",
       "4  0.386370   5.591924   5.734103"
      ]
     },
     "execution_count": 7,
     "metadata": {},
     "output_type": "execute_result"
    }
   ],
   "source": [
    "data= pd.DataFrame(\n",
    "    {\n",
    "        \"x\" : x_list,\n",
    "        \"y\" : y_act_list,\n",
    "        \"y_pred\" :y_pred_list\n",
    "    \n",
    "})\n",
    "\n",
    "data.head()"
   ]
  },
  {
   "cell_type": "code",
   "execution_count": 11,
   "id": "dd8e7195",
   "metadata": {},
   "outputs": [],
   "source": [
    "y_mean= [np.mean(y_act) for i in range(1, len(x_list) + 1)]"
   ]
  },
  {
   "cell_type": "code",
   "execution_count": 13,
   "id": "b3e15482",
   "metadata": {},
   "outputs": [
    {
     "data": {
      "text/plain": [
       "Text(0.5, 1.0, 'Valor Actual vs Predicción')"
      ]
     },
     "execution_count": 13,
     "metadata": {},
     "output_type": "execute_result"
    },
    {
     "data": {
      "image/png": "[encoded data removed]",
      "text/plain": [
       "<Figure size 432x288 with 1 Axes>"
      ]
     },
     "metadata": {
      "needs_background": "light"
     },
     "output_type": "display_data"
    }
   ],
   "source": [
    "%matplotlib inline\n",
    "plt.plot(x, y_pred)\n",
    "plt.plot(x, y_act, \"ro\")\n",
    "plt.plot(x, y_mean, \"g\")\n",
    "plt.title(\"Valor Actual vs Predicción\")"
   ]
  },
  {
   "cell_type": "markdown",
   "id": "5f937920",
   "metadata": {},
   "source": [
    "* De un dato observado (y_act) vemos que hay una diferencia entre este y el valor de nuestro modelo (y_pred). La línea vertical que separa a y_act(xi) e y_pred(xi) se denomina diferencia respecto al modelo, lo llamamos **SSD (Suma de los Cuadrados de las Diferencias)**. Esta es la diferencia que el modelo no logra explicar. La SSD debería tener una distribución normal. \n",
    "* Hay otra diferencia **SST (Suma de los Cuadrados Totales)** que existe entre el valor observado (y_act) y la media de los valores observados (y_mean). Es el error \n",
    "* La **SSR (Suma de los Cuadrados de la Regresión)** es la diferencia entre el valor predicho (y_pred) y el promedio (y_mean). Es la diferencia explicada por el modelo.\n",
    "\n",
    "**SST= SSR + SSD**\n",
    "\n",
    "Se busca que la SSR se agrande y la SSD sea pequeña, de modo que SST se acemeje lo más posible a la SSR, y el error aleatorio SSD pese poco frente al SST. \n",
    "\n",
    "Para saber si un modelo es útil se define el estadístico: \n",
    "\n",
    "**R^2= SSR/SST**\n",
    "\n",
    "Mientras más cercano de 1 se encuentre R^2 sería indicador que el modelo es efectivo."
   ]
  },
  {
   "cell_type": "code",
   "execution_count": 14,
   "id": "3d42ea48",
   "metadata": {},
   "outputs": [
    {
     "data": {
      "text/html": [
       "<div>\n",
       "<style scoped>\n",
       "    .dataframe tbody tr th:only-of-type {\n",
       "        vertical-align: middle;\n",
       "    }\n",
       "\n",
       "    .dataframe tbody tr th {\n",
       "        vertical-align: top;\n",
       "    }\n",
       "\n",
       "    .dataframe thead th {\n",
       "        text-align: right;\n",
       "    }\n",
       "</style>\n",
       "<table border=\"1\" class=\"dataframe\">\n",
       "  <thead>\n",
       "    <tr style=\"text-align: right;\">\n",
       "      <th></th>\n",
       "      <th>x</th>\n",
       "      <th>y</th>\n",
       "      <th>y_pred</th>\n",
       "      <th>SSR</th>\n",
       "      <th>SSD</th>\n",
       "      <th>SST</th>\n",
       "    </tr>\n",
       "  </thead>\n",
       "  <tbody>\n",
       "    <tr>\n",
       "      <th>0</th>\n",
       "      <td>-1.118607</td>\n",
       "      <td>2.670581</td>\n",
       "      <td>2.874647</td>\n",
       "      <td>26.044961</td>\n",
       "      <td>0.041643</td>\n",
       "      <td>28.169476</td>\n",
       "    </tr>\n",
       "    <tr>\n",
       "      <th>1</th>\n",
       "      <td>1.703377</td>\n",
       "      <td>7.826669</td>\n",
       "      <td>8.236416</td>\n",
       "      <td>0.066741</td>\n",
       "      <td>0.167892</td>\n",
       "      <td>0.022923</td>\n",
       "    </tr>\n",
       "    <tr>\n",
       "      <th>2</th>\n",
       "      <td>4.996324</td>\n",
       "      <td>14.141414</td>\n",
       "      <td>14.493016</td>\n",
       "      <td>42.444479</td>\n",
       "      <td>0.123624</td>\n",
       "      <td>37.986768</td>\n",
       "    </tr>\n",
       "    <tr>\n",
       "      <th>3</th>\n",
       "      <td>-2.208585</td>\n",
       "      <td>-0.365778</td>\n",
       "      <td>0.803689</td>\n",
       "      <td>51.471791</td>\n",
       "      <td>1.367653</td>\n",
       "      <td>69.619854</td>\n",
       "    </tr>\n",
       "    <tr>\n",
       "      <th>4</th>\n",
       "      <td>0.386370</td>\n",
       "      <td>5.591924</td>\n",
       "      <td>5.734103</td>\n",
       "      <td>5.035404</td>\n",
       "      <td>0.020215</td>\n",
       "      <td>5.693710</td>\n",
       "    </tr>\n",
       "  </tbody>\n",
       "</table>\n",
       "</div>"
      ],
      "text/plain": [
       "          x          y     y_pred        SSR       SSD        SST\n",
       "0 -1.118607   2.670581   2.874647  26.044961  0.041643  28.169476\n",
       "1  1.703377   7.826669   8.236416   0.066741  0.167892   0.022923\n",
       "2  4.996324  14.141414  14.493016  42.444479  0.123624  37.986768\n",
       "3 -2.208585  -0.365778   0.803689  51.471791  1.367653  69.619854\n",
       "4  0.386370   5.591924   5.734103   5.035404  0.020215   5.693710"
      ]
     },
     "execution_count": 14,
     "metadata": {},
     "output_type": "execute_result"
    }
   ],
   "source": [
    "data[\"SSR\"]= (data[\"y_pred\"]-np.mean(y_act))**2\n",
    "data[\"SSD\"]= (data[\"y_pred\"]-data[\"y\"])**2\n",
    "data[\"SST\"]= (data[\"y\"]- np.mean(y_act))**2\n",
    "\n",
    "data.head()"
   ]
  },
  {
   "cell_type": "code",
   "execution_count": 15,
   "id": "71582ecc",
   "metadata": {},
   "outputs": [],
   "source": [
    "SSR= sum(data[\"SSR\"])\n",
    "SSD= sum(data[\"SSD\"])\n",
    "SST= sum(data[\"SST\"])"
   ]
  },
  {
   "cell_type": "code",
   "execution_count": 16,
   "id": "5a99c406",
   "metadata": {},
   "outputs": [
    {
     "data": {
      "text/plain": [
       "2288.7101340631457"
      ]
     },
     "execution_count": 16,
     "metadata": {},
     "output_type": "execute_result"
    }
   ],
   "source": [
    "SSR"
   ]
  },
  {
   "cell_type": "code",
   "execution_count": 17,
   "id": "7db97756",
   "metadata": {},
   "outputs": [
    {
     "data": {
      "text/plain": [
       "71.79398933649725"
      ]
     },
     "execution_count": 17,
     "metadata": {},
     "output_type": "execute_result"
    }
   ],
   "source": [
    "SSD"
   ]
  },
  {
   "cell_type": "code",
   "execution_count": 18,
   "id": "a781aa79",
   "metadata": {},
   "outputs": [
    {
     "data": {
      "text/plain": [
       "2434.3436834238005"
      ]
     },
     "execution_count": 18,
     "metadata": {},
     "output_type": "execute_result"
    }
   ],
   "source": [
    "SST"
   ]
  },
  {
   "cell_type": "code",
   "execution_count": 19,
   "id": "38fb9638",
   "metadata": {},
   "outputs": [
    {
     "data": {
      "text/plain": [
       "2360.504123399643"
      ]
     },
     "execution_count": 19,
     "metadata": {},
     "output_type": "execute_result"
    }
   ],
   "source": [
    "SSR+SSD"
   ]
  },
  {
   "cell_type": "code",
   "execution_count": 20,
   "id": "7bf43af3",
   "metadata": {},
   "outputs": [],
   "source": [
    "R2= SSR/SST"
   ]
  },
  {
   "cell_type": "code",
   "execution_count": 21,
   "id": "6842ac9f",
   "metadata": {},
   "outputs": [
    {
     "data": {
      "text/plain": [
       "0.9401754360518941"
      ]
     },
     "execution_count": 21,
     "metadata": {},
     "output_type": "execute_result"
    }
   ],
   "source": [
    "R2"
   ]
  },
  {
   "cell_type": "code",
   "execution_count": 23,
   "id": "c0f69f50",
   "metadata": {},
   "outputs": [
    {
     "data": {
      "text/plain": [
       "(array([ 6., 11., 25., 20., 19., 14.,  3.,  0.,  1.,  1.]),\n",
       " array([-1.74227588, -1.24468927, -0.74710265, -0.24951604,  0.24807058,\n",
       "         0.74565719,  1.2432438 ,  1.74083042,  2.23841703,  2.73600365,\n",
       "         3.23359026]),\n",
       " <BarContainer object of 10 artists>)"
      ]
     },
     "execution_count": 23,
     "metadata": {},
     "output_type": "execute_result"
    },
    {
     "data": {
      "image/png": "[encoded data removed]",
      "text/plain": [
       "<Figure size 432x288 with 1 Axes>"
      ]
     },
     "metadata": {
      "needs_background": "light"
     },
     "output_type": "display_data"
    }
   ],
   "source": [
    "#La representación de la distribución de las diferencias entre Y_pred e Y_act\n",
    "plt.hist(data[\"y_pred\"]-data[\"y\"])"
   ]
  },
  {
   "cell_type": "code",
   "execution_count": null,
   "id": "5063b013",
   "metadata": {},
   "outputs": [],
   "source": []
  },
  {
   "cell_type": "code",
   "execution_count": null,
   "id": "b2e59edb",
   "metadata": {},
   "outputs": [],
   "source": []
  }
 ],
 "metadata": {
  "kernelspec": {
   "display_name": "Python 3",
   "language": "python",
   "name": "python3"
  },
  "language_info": {
   "codemirror_mode": {
    "name": "ipython",
    "version": 3
   },
   "file_extension": ".py",
   "mimetype": "text/x-python",
   "name": "python",
   "nbconvert_exporter": "python",
   "pygments_lexer": "ipython3",
   "version": "3.8.10"
  }
 },
 "nbformat": 4,
 "nbformat_minor": 5
}
