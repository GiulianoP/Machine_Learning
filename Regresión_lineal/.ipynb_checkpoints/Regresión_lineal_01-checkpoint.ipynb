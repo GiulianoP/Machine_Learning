{
 "cells": [
  {
   "cell_type": "markdown",
   "id": "205f0d99",
   "metadata": {},
   "source": [
    "# Modelos de Regresión Lineal\n",
    "\n",
    "\n",
    "## Modelo con datos simulados\n",
    "* y= a + b * x\n",
    "* X : 100 valores distribuidos según una N(1.5, 2.5) --> normal de media= 1.5 y desviación estandar= 2.5\n",
    "* Ye = 9 + 1.5 * x + e\n",
    "* e estará distribuido según una normal N(0, 0.8)"
   ]
  },
  {
   "cell_type": "code",
   "execution_count": 1,
   "id": "55902394",
   "metadata": {},
   "outputs": [],
   "source": [
    "import pandas as pd\n",
    "import numpy as np\n",
    "import matplotlib.pyplot as plt"
   ]
  },
  {
   "cell_type": "code",
   "execution_count": 2,
   "id": "4c7c7a16",
   "metadata": {},
   "outputs": [],
   "source": [
    "#Se genera la distribución de x\n",
    "x= 1.5 + 2.5 * np.random.randn(100)"
   ]
  },
  {
   "cell_type": "code",
   "execution_count": 3,
   "id": "54489c3a",
   "metadata": {},
   "outputs": [],
   "source": [
    "res= 0 + 0.8 * np.random.randn(100)"
   ]
  },
  {
   "cell_type": "code",
   "execution_count": 4,
   "id": "b4c19b86",
   "metadata": {},
   "outputs": [],
   "source": [
    "y_pred= 9 + 0.5 * x"
   ]
  },
  {
   "cell_type": "code",
   "execution_count": 5,
   "id": "cc751bbb",
   "metadata": {},
   "outputs": [],
   "source": [
    "y_act= 9 + 0.5 * x + res"
   ]
  },
  {
   "cell_type": "code",
   "execution_count": 6,
   "id": "f3de1edf",
   "metadata": {},
   "outputs": [],
   "source": [
    "x_list= x.tolist()\n",
    "y_pred_list= y_pred.tolist()\n",
    "y_act_list= y_act.tolist()"
   ]
  },
  {
   "cell_type": "code",
   "execution_count": 7,
   "id": "688097fb",
   "metadata": {},
   "outputs": [
    {
     "data": {
      "text/html": [
       "<div>\n",
       "<style scoped>\n",
       "    .dataframe tbody tr th:only-of-type {\n",
       "        vertical-align: middle;\n",
       "    }\n",
       "\n",
       "    .dataframe tbody tr th {\n",
       "        vertical-align: top;\n",
       "    }\n",
       "\n",
       "    .dataframe thead th {\n",
       "        text-align: right;\n",
       "    }\n",
       "</style>\n",
       "<table border=\"1\" class=\"dataframe\">\n",
       "  <thead>\n",
       "    <tr style=\"text-align: right;\">\n",
       "      <th></th>\n",
       "      <th>x</th>\n",
       "      <th>y</th>\n",
       "      <th>y_pred</th>\n",
       "    </tr>\n",
       "  </thead>\n",
       "  <tbody>\n",
       "    <tr>\n",
       "      <th>0</th>\n",
       "      <td>1.260259</td>\n",
       "      <td>9.573520</td>\n",
       "      <td>9.630129</td>\n",
       "    </tr>\n",
       "    <tr>\n",
       "      <th>1</th>\n",
       "      <td>8.006310</td>\n",
       "      <td>12.024283</td>\n",
       "      <td>13.003155</td>\n",
       "    </tr>\n",
       "    <tr>\n",
       "      <th>2</th>\n",
       "      <td>0.202464</td>\n",
       "      <td>7.189048</td>\n",
       "      <td>9.101232</td>\n",
       "    </tr>\n",
       "    <tr>\n",
       "      <th>3</th>\n",
       "      <td>2.116140</td>\n",
       "      <td>10.495790</td>\n",
       "      <td>10.058070</td>\n",
       "    </tr>\n",
       "    <tr>\n",
       "      <th>4</th>\n",
       "      <td>4.173538</td>\n",
       "      <td>9.889138</td>\n",
       "      <td>11.086769</td>\n",
       "    </tr>\n",
       "  </tbody>\n",
       "</table>\n",
       "</div>"
      ],
      "text/plain": [
       "          x          y     y_pred\n",
       "0  1.260259   9.573520   9.630129\n",
       "1  8.006310  12.024283  13.003155\n",
       "2  0.202464   7.189048   9.101232\n",
       "3  2.116140  10.495790  10.058070\n",
       "4  4.173538   9.889138  11.086769"
      ]
     },
     "execution_count": 7,
     "metadata": {},
     "output_type": "execute_result"
    }
   ],
   "source": [
    "data= pd.DataFrame(\n",
    "    {\n",
    "        \"x\" : x_list,\n",
    "        \"y\" : y_act_list,\n",
    "        \"y_pred\" :y_pred_list\n",
    "    \n",
    "})\n",
    "\n",
    "data.head()"
   ]
  },
  {
   "cell_type": "code",
   "execution_count": 8,
   "id": "dd8e7195",
   "metadata": {},
   "outputs": [],
   "source": [
    "y_mean= [np.mean(y_act) for i in range(1, len(x_list) + 1)]"
   ]
  },
  {
   "cell_type": "code",
   "execution_count": 9,
   "id": "b3e15482",
   "metadata": {},
   "outputs": [
    {
     "data": {
      "text/plain": [
       "Text(0.5, 1.0, 'Valor Actual vs Predicción')"
      ]
     },
     "execution_count": 9,
     "metadata": {},
     "output_type": "execute_result"
    },
    {
     "data": {
      "image/png": "[encoded data removed]",
      "text/plain": [
       "<Figure size 432x288 with 1 Axes>"
      ]
     },
     "metadata": {
      "needs_background": "light"
     },
     "output_type": "display_data"
    }
   ],
   "source": [
    "%matplotlib inline\n",
    "plt.plot(x, y_pred)\n",
    "plt.plot(x, y_act, \"ro\")\n",
    "plt.plot(x, y_mean, \"g\")\n",
    "plt.title(\"Valor Actual vs Predicción\")"
   ]
  },
  {
   "cell_type": "markdown",
   "id": "5f937920",
   "metadata": {},
   "source": [
    "* De un dato observado (y_act) vemos que hay una diferencia entre este y el valor de nuestro modelo (y_pred). La línea vertical que separa a y_act(xi) e y_pred(xi) se denomina diferencia respecto al modelo, lo llamamos **SSD (Suma de los Cuadrados de las Diferencias)**. Esta es la diferencia que el modelo no logra explicar. La SSD debería tener una distribución normal. \n",
    "* Hay otra diferencia **SST (Suma de los Cuadrados Totales)** que existe entre el valor observado (y_act) y la media de los valores observados (y_mean). Es el error \n",
    "* La **SSR (Suma de los Cuadrados de la Regresión)** es la diferencia entre el valor predicho (y_pred) y el promedio (y_mean). Es la diferencia explicada por el modelo.\n",
    "\n",
    "**SST= SSR + SSD**\n",
    "\n",
    "Se busca que la SSR se agrande y la SSD sea pequeña, de modo que SST se acemeje lo más posible a la SSR, y el error aleatorio SSD pese poco frente al SST. \n",
    "\n",
    "Para saber si un modelo es útil se define el estadístico: \n",
    "\n",
    "**R^2= SSR/SST**\n",
    "\n",
    "Mientras más cercano de 1 se encuentre R^2 sería indicador que el modelo es efectivo."
   ]
  },
  {
   "cell_type": "code",
   "execution_count": 10,
   "id": "3d42ea48",
   "metadata": {},
   "outputs": [
    {
     "data": {
      "text/html": [
       "<div>\n",
       "<style scoped>\n",
       "    .dataframe tbody tr th:only-of-type {\n",
       "        vertical-align: middle;\n",
       "    }\n",
       "\n",
       "    .dataframe tbody tr th {\n",
       "        vertical-align: top;\n",
       "    }\n",
       "\n",
       "    .dataframe thead th {\n",
       "        text-align: right;\n",
       "    }\n",
       "</style>\n",
       "<table border=\"1\" class=\"dataframe\">\n",
       "  <thead>\n",
       "    <tr style=\"text-align: right;\">\n",
       "      <th></th>\n",
       "      <th>x</th>\n",
       "      <th>y</th>\n",
       "      <th>y_pred</th>\n",
       "      <th>SSR</th>\n",
       "      <th>SSD</th>\n",
       "      <th>SST</th>\n",
       "    </tr>\n",
       "  </thead>\n",
       "  <tbody>\n",
       "    <tr>\n",
       "      <th>0</th>\n",
       "      <td>1.260259</td>\n",
       "      <td>9.573520</td>\n",
       "      <td>9.630129</td>\n",
       "      <td>0.002288</td>\n",
       "      <td>0.003205</td>\n",
       "      <td>0.010908</td>\n",
       "    </tr>\n",
       "    <tr>\n",
       "      <th>1</th>\n",
       "      <td>8.006310</td>\n",
       "      <td>12.024283</td>\n",
       "      <td>13.003155</td>\n",
       "      <td>11.056925</td>\n",
       "      <td>0.958190</td>\n",
       "      <td>5.505236</td>\n",
       "    </tr>\n",
       "    <tr>\n",
       "      <th>2</th>\n",
       "      <td>0.202464</td>\n",
       "      <td>7.189048</td>\n",
       "      <td>9.101232</td>\n",
       "      <td>0.332615</td>\n",
       "      <td>3.656447</td>\n",
       "      <td>6.194679</td>\n",
       "    </tr>\n",
       "    <tr>\n",
       "      <th>3</th>\n",
       "      <td>2.116140</td>\n",
       "      <td>10.495790</td>\n",
       "      <td>10.058070</td>\n",
       "      <td>0.144484</td>\n",
       "      <td>0.191599</td>\n",
       "      <td>0.668847</td>\n",
       "    </tr>\n",
       "    <tr>\n",
       "      <th>4</th>\n",
       "      <td>4.173538</td>\n",
       "      <td>9.889138</td>\n",
       "      <td>11.086769</td>\n",
       "      <td>1.984745</td>\n",
       "      <td>1.434321</td>\n",
       "      <td>0.044596</td>\n",
       "    </tr>\n",
       "  </tbody>\n",
       "</table>\n",
       "</div>"
      ],
      "text/plain": [
       "          x          y     y_pred        SSR       SSD       SST\n",
       "0  1.260259   9.573520   9.630129   0.002288  0.003205  0.010908\n",
       "1  8.006310  12.024283  13.003155  11.056925  0.958190  5.505236\n",
       "2  0.202464   7.189048   9.101232   0.332615  3.656447  6.194679\n",
       "3  2.116140  10.495790  10.058070   0.144484  0.191599  0.668847\n",
       "4  4.173538   9.889138  11.086769   1.984745  1.434321  0.044596"
      ]
     },
     "execution_count": 10,
     "metadata": {},
     "output_type": "execute_result"
    }
   ],
   "source": [
    "data[\"SSR\"]= (data[\"y_pred\"]-np.mean(y_act))**2\n",
    "data[\"SSD\"]= (data[\"y_pred\"]-data[\"y\"])**2\n",
    "data[\"SST\"]= (data[\"y\"]- np.mean(y_act))**2\n",
    "\n",
    "data.head()"
   ]
  },
  {
   "cell_type": "code",
   "execution_count": 11,
   "id": "71582ecc",
   "metadata": {},
   "outputs": [],
   "source": [
    "SSR= sum(data[\"SSR\"])\n",
    "SSD= sum(data[\"SSD\"])\n",
    "SST= sum(data[\"SST\"])"
   ]
  },
  {
   "cell_type": "code",
   "execution_count": 12,
   "id": "5a99c406",
   "metadata": {},
   "outputs": [
    {
     "data": {
      "text/plain": [
       "189.9170313324389"
      ]
     },
     "execution_count": 12,
     "metadata": {},
     "output_type": "execute_result"
    }
   ],
   "source": [
    "SSR"
   ]
  },
  {
   "cell_type": "code",
   "execution_count": 13,
   "id": "7db97756",
   "metadata": {},
   "outputs": [
    {
     "data": {
      "text/plain": [
       "56.12795967245298"
      ]
     },
     "execution_count": 13,
     "metadata": {},
     "output_type": "execute_result"
    }
   ],
   "source": [
    "SSD"
   ]
  },
  {
   "cell_type": "code",
   "execution_count": 14,
   "id": "a781aa79",
   "metadata": {},
   "outputs": [
    {
     "data": {
      "text/plain": [
       "224.88524059413447"
      ]
     },
     "execution_count": 14,
     "metadata": {},
     "output_type": "execute_result"
    }
   ],
   "source": [
    "SST"
   ]
  },
  {
   "cell_type": "code",
   "execution_count": 15,
   "id": "38fb9638",
   "metadata": {},
   "outputs": [
    {
     "data": {
      "text/plain": [
       "246.0449910048919"
      ]
     },
     "execution_count": 15,
     "metadata": {},
     "output_type": "execute_result"
    }
   ],
   "source": [
    "SSR+SSD"
   ]
  },
  {
   "cell_type": "code",
   "execution_count": 16,
   "id": "7bf43af3",
   "metadata": {},
   "outputs": [],
   "source": [
    "R2= SSR/SST"
   ]
  },
  {
   "cell_type": "code",
   "execution_count": 17,
   "id": "6842ac9f",
   "metadata": {},
   "outputs": [
    {
     "data": {
      "text/plain": [
       "0.8445064283929373"
      ]
     },
     "execution_count": 17,
     "metadata": {},
     "output_type": "execute_result"
    }
   ],
   "source": [
    "R2"
   ]
  },
  {
   "cell_type": "code",
   "execution_count": 18,
   "id": "c0f69f50",
   "metadata": {},
   "outputs": [
    {
     "data": {
      "text/plain": [
       "(array([ 1.,  1.,  3., 10., 24., 22., 12., 16.,  9.,  2.]),\n",
       " array([-2.19339018, -1.78283279, -1.3722754 , -0.961718  , -0.55116061,\n",
       "        -0.14060322,  0.26995418,  0.68051157,  1.09106896,  1.50162636,\n",
       "         1.91218375]),\n",
       " <BarContainer object of 10 artists>)"
      ]
     },
     "execution_count": 18,
     "metadata": {},
     "output_type": "execute_result"
    },
    {
     "data": {
      "image/png": "[encoded data removed]",
      "text/plain": [
       "<Figure size 432x288 with 1 Axes>"
      ]
     },
     "metadata": {
      "needs_background": "light"
     },
     "output_type": "display_data"
    }
   ],
   "source": [
    "#La representación de la distribución de las diferencias entre Y_pred e Y_act\n",
    "plt.hist(data[\"y_pred\"]-data[\"y\"])"
   ]
  },
  {
   "cell_type": "markdown",
   "id": "e0f7a2f1",
   "metadata": {},
   "source": [
    "## Obteniendo la recta de la regresión\n",
    "* y = a + b * x\n",
    "* b = sum((xi - x_m) * (yi - y_m)) / sum((xi - x_m)^2) --> Covarianza / Varianza\n",
    "* a = y_m - b * x_m"
   ]
  },
  {
   "cell_type": "code",
   "execution_count": 19,
   "id": "b2e59edb",
   "metadata": {},
   "outputs": [
    {
     "data": {
      "text/plain": [
       "(1.6525324852428147, 9.67795950427691)"
      ]
     },
     "execution_count": 19,
     "metadata": {},
     "output_type": "execute_result"
    }
   ],
   "source": [
    "x_mean= np.mean(data[\"x\"])\n",
    "y_mean= np.mean(data[\"y\"])\n",
    "\n",
    "x_mean, y_mean"
   ]
  },
  {
   "cell_type": "code",
   "execution_count": 20,
   "id": "1db89edf",
   "metadata": {},
   "outputs": [],
   "source": [
    "data[\"beta_n\"]= (data[\"x\"] - x_mean) * (data[\"y\"] - y_mean)\n",
    "data[\"beta_d\"]= (data[\"x\"] - x_mean)**2\n",
    "\n",
    "beta= sum(data[\"beta_n\"])/sum(data[\"beta_d\"]) "
   ]
  },
  {
   "cell_type": "code",
   "execution_count": 21,
   "id": "eb861293",
   "metadata": {},
   "outputs": [],
   "source": [
    "alpha= y_mean - beta * x_mean"
   ]
  },
  {
   "cell_type": "code",
   "execution_count": 22,
   "id": "9d27fe6e",
   "metadata": {},
   "outputs": [
    {
     "data": {
      "text/plain": [
       "(8.888580758919103, 0.47767820143143436)"
      ]
     },
     "execution_count": 22,
     "metadata": {},
     "output_type": "execute_result"
    }
   ],
   "source": [
    "alpha, beta"
   ]
  },
  {
   "cell_type": "markdown",
   "id": "689bbe24",
   "metadata": {},
   "source": [
    "El modelo lineal obtenido por regresión es:\n",
    "\n",
    "**y = 8.888580758919103 + 0.47767820143143436 * x**"
   ]
  },
  {
   "cell_type": "code",
   "execution_count": 23,
   "id": "190aa7ed",
   "metadata": {},
   "outputs": [
    {
     "data": {
      "text/html": [
       "<div>\n",
       "<style scoped>\n",
       "    .dataframe tbody tr th:only-of-type {\n",
       "        vertical-align: middle;\n",
       "    }\n",
       "\n",
       "    .dataframe tbody tr th {\n",
       "        vertical-align: top;\n",
       "    }\n",
       "\n",
       "    .dataframe thead th {\n",
       "        text-align: right;\n",
       "    }\n",
       "</style>\n",
       "<table border=\"1\" class=\"dataframe\">\n",
       "  <thead>\n",
       "    <tr style=\"text-align: right;\">\n",
       "      <th></th>\n",
       "      <th>x</th>\n",
       "      <th>y</th>\n",
       "      <th>y_pred</th>\n",
       "      <th>SSR</th>\n",
       "      <th>SSD</th>\n",
       "      <th>SST</th>\n",
       "      <th>beta_n</th>\n",
       "      <th>beta_d</th>\n",
       "      <th>y_model</th>\n",
       "    </tr>\n",
       "  </thead>\n",
       "  <tbody>\n",
       "    <tr>\n",
       "      <th>0</th>\n",
       "      <td>1.260259</td>\n",
       "      <td>9.573520</td>\n",
       "      <td>9.630129</td>\n",
       "      <td>0.002288</td>\n",
       "      <td>0.003205</td>\n",
       "      <td>0.010908</td>\n",
       "      <td>0.040969</td>\n",
       "      <td>0.153879</td>\n",
       "      <td>9.490579</td>\n",
       "    </tr>\n",
       "    <tr>\n",
       "      <th>1</th>\n",
       "      <td>8.006310</td>\n",
       "      <td>12.024283</td>\n",
       "      <td>13.003155</td>\n",
       "      <td>11.056925</td>\n",
       "      <td>0.958190</td>\n",
       "      <td>5.505236</td>\n",
       "      <td>14.908020</td>\n",
       "      <td>40.370490</td>\n",
       "      <td>12.713021</td>\n",
       "    </tr>\n",
       "    <tr>\n",
       "      <th>2</th>\n",
       "      <td>0.202464</td>\n",
       "      <td>7.189048</td>\n",
       "      <td>9.101232</td>\n",
       "      <td>0.332615</td>\n",
       "      <td>3.656447</td>\n",
       "      <td>6.194679</td>\n",
       "      <td>3.609092</td>\n",
       "      <td>2.102699</td>\n",
       "      <td>8.985293</td>\n",
       "    </tr>\n",
       "    <tr>\n",
       "      <th>3</th>\n",
       "      <td>2.116140</td>\n",
       "      <td>10.495790</td>\n",
       "      <td>10.058070</td>\n",
       "      <td>0.144484</td>\n",
       "      <td>0.191599</td>\n",
       "      <td>0.668847</td>\n",
       "      <td>0.379152</td>\n",
       "      <td>0.214932</td>\n",
       "      <td>9.899415</td>\n",
       "    </tr>\n",
       "    <tr>\n",
       "      <th>4</th>\n",
       "      <td>4.173538</td>\n",
       "      <td>9.889138</td>\n",
       "      <td>11.086769</td>\n",
       "      <td>1.984745</td>\n",
       "      <td>1.434321</td>\n",
       "      <td>0.044596</td>\n",
       "      <td>0.532381</td>\n",
       "      <td>6.355471</td>\n",
       "      <td>10.882189</td>\n",
       "    </tr>\n",
       "  </tbody>\n",
       "</table>\n",
       "</div>"
      ],
      "text/plain": [
       "          x          y     y_pred        SSR       SSD       SST     beta_n  \\\n",
       "0  1.260259   9.573520   9.630129   0.002288  0.003205  0.010908   0.040969   \n",
       "1  8.006310  12.024283  13.003155  11.056925  0.958190  5.505236  14.908020   \n",
       "2  0.202464   7.189048   9.101232   0.332615  3.656447  6.194679   3.609092   \n",
       "3  2.116140  10.495790  10.058070   0.144484  0.191599  0.668847   0.379152   \n",
       "4  4.173538   9.889138  11.086769   1.984745  1.434321  0.044596   0.532381   \n",
       "\n",
       "      beta_d    y_model  \n",
       "0   0.153879   9.490579  \n",
       "1  40.370490  12.713021  \n",
       "2   2.102699   8.985293  \n",
       "3   0.214932   9.899415  \n",
       "4   6.355471  10.882189  "
      ]
     },
     "execution_count": 23,
     "metadata": {},
     "output_type": "execute_result"
    }
   ],
   "source": [
    "data[\"y_model\"]= alpha + beta * data[\"x\"]\n",
    "\n",
    "data.head()"
   ]
  },
  {
   "cell_type": "code",
   "execution_count": 24,
   "id": "4feec148",
   "metadata": {},
   "outputs": [],
   "source": [
    "SSR= sum((data[\"y_model\"]-y_mean)**2)\n",
    "SSD= sum((data[\"y_model\"]-data[\"y\"])**2)\n",
    "SST= sum((data[\"y\"]- y_mean)**2)"
   ]
  },
  {
   "cell_type": "code",
   "execution_count": 25,
   "id": "e9332d04",
   "metadata": {},
   "outputs": [
    {
     "data": {
      "text/plain": [
       "(171.33090037720473, 53.55434021692942, 224.8852405941345)"
      ]
     },
     "execution_count": 25,
     "metadata": {},
     "output_type": "execute_result"
    }
   ],
   "source": [
    "SSR, SSD, SST"
   ]
  },
  {
   "cell_type": "code",
   "execution_count": 26,
   "id": "2e58924d",
   "metadata": {},
   "outputs": [
    {
     "data": {
      "text/plain": [
       "0.7618592484084676"
      ]
     },
     "execution_count": 26,
     "metadata": {},
     "output_type": "execute_result"
    }
   ],
   "source": [
    "R2= SSR/SST\n",
    "R2\n"
   ]
  },
  {
   "cell_type": "code",
   "execution_count": 27,
   "id": "6b8def90",
   "metadata": {},
   "outputs": [
    {
     "data": {
      "text/plain": [
       "Text(0.5, 1.0, 'Valor Actual vs Predicción')"
      ]
     },
     "execution_count": 27,
     "metadata": {},
     "output_type": "execute_result"
    },
    {
     "data": {
      "image/png": "[encoded data removed]",
      "text/plain": [
       "<Figure size 432x288 with 1 Axes>"
      ]
     },
     "metadata": {
      "needs_background": "light"
     },
     "output_type": "display_data"
    }
   ],
   "source": [
    "%matplotlib inline\n",
    "\n",
    "y_mean= [np.mean(y_act) for i in range(1, len(x_list) + 1)]\n",
    "\n",
    "plt.plot(data[\"x\"], data[\"y_pred\"])\n",
    "plt.plot(data[\"x\"], data[\"y\"], \"ro\")\n",
    "plt.plot(data[\"x\"], y_mean, \"g\")\n",
    "plt.plot(data[\"x\"], data[\"y_model\"])\n",
    "plt.title(\"Valor Actual vs Predicción\")"
   ]
  },
  {
   "cell_type": "markdown",
   "id": "c284add8",
   "metadata": {},
   "source": [
    "## Interpretar los parámetros de la Regresión\n",
    "Para ver si una regresión es buena o no, observamos R2. Pero no nos podemos basar solamente en este parámetro."
   ]
  },
  {
   "cell_type": "markdown",
   "id": "7ea9656a",
   "metadata": {},
   "source": [
    "### El p-valor\n",
    "Calcular alpha y beta nos da estimadores, no son exactos, por lo que se puede hacer una contraste de hipótesis. \n",
    "\n",
    "Ver si **b** tiene tendencia a ser cero (cero o cercano a este), entonces **a** sería igual al valor promerdio de las y (y_mean) y no habría correlación alguna entre x e y:\n",
    "\n",
    "**H0 : b = 0**\n",
    "\n",
    "**H1 : b != 0**\n",
    "\n",
    "Si el t-estadístico ó el p-valor resultante es menor que el nivel de significación, rechazamos la hipótesis nula y aceptamos que exista relación lineal entre x e y.\n",
    "\n",
    "Esto se puede utilizar para identificar que valores de entrada (columnas) no son significativas para nuestro modelo. Aquellas que tengan mayor p-valor serán las primeras a descartar."
   ]
  },
  {
   "cell_type": "markdown",
   "id": "a1073d9d",
   "metadata": {},
   "source": [
    "### El estadístico F\n",
    "\n",
    "Para el caso de una regresión lineal múltiple.\n",
    "\n",
    "Tambien se plantea el contraste de hipótesis"
   ]
  }
 ],
 "metadata": {
  "kernelspec": {
   "display_name": "Python 3",
   "language": "python",
   "name": "python3"
  },
  "language_info": {
   "codemirror_mode": {
    "name": "ipython",
    "version": 3
   },
   "file_extension": ".py",
   "mimetype": "text/x-python",
   "name": "python",
   "nbconvert_exporter": "python",
   "pygments_lexer": "ipython3",
   "version": "3.8.10"
  }
 },
 "nbformat": 4,
 "nbformat_minor": 5
}
