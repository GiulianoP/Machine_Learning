{
 "cells": [
  {
   "cell_type": "markdown",
   "id": "205f0d99",
   "metadata": {},
   "source": [
    "# Modelos de Regresión Lineal\n",
    "\n",
    "\n",
    "## Modelo con datos simulados\n",
    "* y= a + b * x\n",
    "* X : 100 valores distribuidos según una N(1.5, 2.5) --> normal de media= 1.5 y desviación estandar= 2.5\n",
    "* Ye = 9 + 1.5 * x + e\n",
    "* e estará distribuido según una normal N(0, 0.8)"
   ]
  },
  {
   "cell_type": "code",
   "execution_count": 28,
   "id": "55902394",
   "metadata": {},
   "outputs": [],
   "source": [
    "import pandas as pd\n",
    "import numpy as np\n",
    "import matplotlib.pyplot as plt"
   ]
  },
  {
   "cell_type": "code",
   "execution_count": 29,
   "id": "4c7c7a16",
   "metadata": {},
   "outputs": [],
   "source": [
    "#Se genera la distribución de x\n",
    "x= 1.5 + 2.5 * np.random.randn(100)"
   ]
  },
  {
   "cell_type": "code",
   "execution_count": 30,
   "id": "54489c3a",
   "metadata": {},
   "outputs": [],
   "source": [
    "res= 0 + 0.8 * np.random.randn(100)"
   ]
  },
  {
   "cell_type": "code",
   "execution_count": 31,
   "id": "b4c19b86",
   "metadata": {},
   "outputs": [],
   "source": [
    "y_pred= 9 + 0.5 * x"
   ]
  },
  {
   "cell_type": "code",
   "execution_count": 32,
   "id": "cc751bbb",
   "metadata": {},
   "outputs": [],
   "source": [
    "y_act= 9 + 0.5 * x + res"
   ]
  },
  {
   "cell_type": "code",
   "execution_count": 33,
   "id": "f3de1edf",
   "metadata": {},
   "outputs": [],
   "source": [
    "x_list= x.tolist()\n",
    "y_pred_list= y_pred.tolist()\n",
    "y_act_list= y_act.tolist()"
   ]
  },
  {
   "cell_type": "code",
   "execution_count": 34,
   "id": "688097fb",
   "metadata": {},
   "outputs": [
    {
     "data": {
      "text/html": [
       "<div>\n",
       "<style scoped>\n",
       "    .dataframe tbody tr th:only-of-type {\n",
       "        vertical-align: middle;\n",
       "    }\n",
       "\n",
       "    .dataframe tbody tr th {\n",
       "        vertical-align: top;\n",
       "    }\n",
       "\n",
       "    .dataframe thead th {\n",
       "        text-align: right;\n",
       "    }\n",
       "</style>\n",
       "<table border=\"1\" class=\"dataframe\">\n",
       "  <thead>\n",
       "    <tr style=\"text-align: right;\">\n",
       "      <th></th>\n",
       "      <th>x</th>\n",
       "      <th>y</th>\n",
       "      <th>y_pred</th>\n",
       "    </tr>\n",
       "  </thead>\n",
       "  <tbody>\n",
       "    <tr>\n",
       "      <th>0</th>\n",
       "      <td>1.772031</td>\n",
       "      <td>9.123263</td>\n",
       "      <td>9.886015</td>\n",
       "    </tr>\n",
       "    <tr>\n",
       "      <th>1</th>\n",
       "      <td>1.688772</td>\n",
       "      <td>9.401970</td>\n",
       "      <td>9.844386</td>\n",
       "    </tr>\n",
       "    <tr>\n",
       "      <th>2</th>\n",
       "      <td>-0.984121</td>\n",
       "      <td>7.781694</td>\n",
       "      <td>8.507939</td>\n",
       "    </tr>\n",
       "    <tr>\n",
       "      <th>3</th>\n",
       "      <td>2.177357</td>\n",
       "      <td>10.504764</td>\n",
       "      <td>10.088678</td>\n",
       "    </tr>\n",
       "    <tr>\n",
       "      <th>4</th>\n",
       "      <td>1.301786</td>\n",
       "      <td>11.047544</td>\n",
       "      <td>9.650893</td>\n",
       "    </tr>\n",
       "  </tbody>\n",
       "</table>\n",
       "</div>"
      ],
      "text/plain": [
       "          x          y     y_pred\n",
       "0  1.772031   9.123263   9.886015\n",
       "1  1.688772   9.401970   9.844386\n",
       "2 -0.984121   7.781694   8.507939\n",
       "3  2.177357  10.504764  10.088678\n",
       "4  1.301786  11.047544   9.650893"
      ]
     },
     "execution_count": 34,
     "metadata": {},
     "output_type": "execute_result"
    }
   ],
   "source": [
    "data= pd.DataFrame(\n",
    "    {\n",
    "        \"x\" : x_list,\n",
    "        \"y\" : y_act_list,\n",
    "        \"y_pred\" :y_pred_list\n",
    "    \n",
    "})\n",
    "\n",
    "data.head()"
   ]
  },
  {
   "cell_type": "code",
   "execution_count": 35,
   "id": "dd8e7195",
   "metadata": {},
   "outputs": [],
   "source": [
    "y_mean= [np.mean(y_act) for i in range(1, len(x_list) + 1)]"
   ]
  },
  {
   "cell_type": "code",
   "execution_count": 36,
   "id": "b3e15482",
   "metadata": {},
   "outputs": [
    {
     "data": {
      "text/plain": [
       "Text(0.5, 1.0, 'Valor Actual vs Predicción')"
      ]
     },
     "execution_count": 36,
     "metadata": {},
     "output_type": "execute_result"
    },
    {
     "data": {
      "image/png": "[encoded data removed]",
      "text/plain": [
       "<Figure size 432x288 with 1 Axes>"
      ]
     },
     "metadata": {
      "needs_background": "light"
     },
     "output_type": "display_data"
    }
   ],
   "source": [
    "%matplotlib inline\n",
    "plt.plot(x, y_pred)\n",
    "plt.plot(x, y_act, \"ro\")\n",
    "plt.plot(x, y_mean, \"g\")\n",
    "plt.title(\"Valor Actual vs Predicción\")"
   ]
  },
  {
   "cell_type": "markdown",
   "id": "5f937920",
   "metadata": {},
   "source": [
    "* De un dato observado (y_act) vemos que hay una diferencia entre este y el valor de nuestro modelo (y_pred). La línea vertical que separa a y_act(xi) e y_pred(xi) se denomina diferencia respecto al modelo, lo llamamos **SSD (Suma de los Cuadrados de las Diferencias)**. Esta es la diferencia que el modelo no logra explicar. La SSD debería tener una distribución normal. \n",
    "* Hay otra diferencia **SST (Suma de los Cuadrados Totales)** que existe entre el valor observado (y_act) y la media de los valores observados (y_mean). Es el error \n",
    "* La **SSR (Suma de los Cuadrados de la Regresión)** es la diferencia entre el valor predicho (y_pred) y el promedio (y_mean). Es la diferencia explicada por el modelo.\n",
    "\n",
    "**SST= SSR + SSD**\n",
    "\n",
    "Se busca que la SSR se agrande y la SSD sea pequeña, de modo que SST se acemeje lo más posible a la SSR, y el error aleatorio SSD pese poco frente al SST. \n",
    "\n",
    "Para saber si un modelo es útil se define el estadístico: \n",
    "\n",
    "**R^2= SSR/SST**\n",
    "\n",
    "Mientras más cercano de 1 se encuentre R^2 sería indicador que el modelo es efectivo."
   ]
  },
  {
   "cell_type": "code",
   "execution_count": 37,
   "id": "3d42ea48",
   "metadata": {},
   "outputs": [
    {
     "data": {
      "text/html": [
       "<div>\n",
       "<style scoped>\n",
       "    .dataframe tbody tr th:only-of-type {\n",
       "        vertical-align: middle;\n",
       "    }\n",
       "\n",
       "    .dataframe tbody tr th {\n",
       "        vertical-align: top;\n",
       "    }\n",
       "\n",
       "    .dataframe thead th {\n",
       "        text-align: right;\n",
       "    }\n",
       "</style>\n",
       "<table border=\"1\" class=\"dataframe\">\n",
       "  <thead>\n",
       "    <tr style=\"text-align: right;\">\n",
       "      <th></th>\n",
       "      <th>x</th>\n",
       "      <th>y</th>\n",
       "      <th>y_pred</th>\n",
       "      <th>SSR</th>\n",
       "      <th>SSD</th>\n",
       "      <th>SST</th>\n",
       "    </tr>\n",
       "  </thead>\n",
       "  <tbody>\n",
       "    <tr>\n",
       "      <th>0</th>\n",
       "      <td>1.772031</td>\n",
       "      <td>9.123263</td>\n",
       "      <td>9.886015</td>\n",
       "      <td>0.007478</td>\n",
       "      <td>0.581791</td>\n",
       "      <td>0.457349</td>\n",
       "    </tr>\n",
       "    <tr>\n",
       "      <th>1</th>\n",
       "      <td>1.688772</td>\n",
       "      <td>9.401970</td>\n",
       "      <td>9.844386</td>\n",
       "      <td>0.002011</td>\n",
       "      <td>0.195732</td>\n",
       "      <td>0.158061</td>\n",
       "    </tr>\n",
       "    <tr>\n",
       "      <th>2</th>\n",
       "      <td>-0.984121</td>\n",
       "      <td>7.781694</td>\n",
       "      <td>8.507939</td>\n",
       "      <td>1.668229</td>\n",
       "      <td>0.527432</td>\n",
       "      <td>4.071695</td>\n",
       "    </tr>\n",
       "    <tr>\n",
       "      <th>3</th>\n",
       "      <td>2.177357</td>\n",
       "      <td>10.504764</td>\n",
       "      <td>10.088678</td>\n",
       "      <td>0.083602</td>\n",
       "      <td>0.173127</td>\n",
       "      <td>0.497342</td>\n",
       "    </tr>\n",
       "    <tr>\n",
       "      <th>4</th>\n",
       "      <td>1.301786</td>\n",
       "      <td>11.047544</td>\n",
       "      <td>9.650893</td>\n",
       "      <td>0.022095</td>\n",
       "      <td>1.950634</td>\n",
       "      <td>1.557518</td>\n",
       "    </tr>\n",
       "  </tbody>\n",
       "</table>\n",
       "</div>"
      ],
      "text/plain": [
       "          x          y     y_pred       SSR       SSD       SST\n",
       "0  1.772031   9.123263   9.886015  0.007478  0.581791  0.457349\n",
       "1  1.688772   9.401970   9.844386  0.002011  0.195732  0.158061\n",
       "2 -0.984121   7.781694   8.507939  1.668229  0.527432  4.071695\n",
       "3  2.177357  10.504764  10.088678  0.083602  0.173127  0.497342\n",
       "4  1.301786  11.047544   9.650893  0.022095  1.950634  1.557518"
      ]
     },
     "execution_count": 37,
     "metadata": {},
     "output_type": "execute_result"
    }
   ],
   "source": [
    "data[\"SSR\"]= (data[\"y_pred\"]-np.mean(y_act))**2\n",
    "data[\"SSD\"]= (data[\"y_pred\"]-data[\"y\"])**2\n",
    "data[\"SST\"]= (data[\"y\"]- np.mean(y_act))**2\n",
    "\n",
    "data.head()"
   ]
  },
  {
   "cell_type": "code",
   "execution_count": 38,
   "id": "71582ecc",
   "metadata": {},
   "outputs": [],
   "source": [
    "SSR= sum(data[\"SSR\"])\n",
    "SSD= sum(data[\"SSD\"])\n",
    "SST= sum(data[\"SST\"])"
   ]
  },
  {
   "cell_type": "code",
   "execution_count": 39,
   "id": "5a99c406",
   "metadata": {},
   "outputs": [
    {
     "data": {
      "text/plain": [
       "140.36883467275862"
      ]
     },
     "execution_count": 39,
     "metadata": {},
     "output_type": "execute_result"
    }
   ],
   "source": [
    "SSR"
   ]
  },
  {
   "cell_type": "code",
   "execution_count": 40,
   "id": "7db97756",
   "metadata": {},
   "outputs": [
    {
     "data": {
      "text/plain": [
       "59.98865771615201"
      ]
     },
     "execution_count": 40,
     "metadata": {},
     "output_type": "execute_result"
    }
   ],
   "source": [
    "SSD"
   ]
  },
  {
   "cell_type": "code",
   "execution_count": 41,
   "id": "a781aa79",
   "metadata": {},
   "outputs": [
    {
     "data": {
      "text/plain": [
       "171.2186037402057"
      ]
     },
     "execution_count": 41,
     "metadata": {},
     "output_type": "execute_result"
    }
   ],
   "source": [
    "SST"
   ]
  },
  {
   "cell_type": "code",
   "execution_count": 42,
   "id": "38fb9638",
   "metadata": {},
   "outputs": [
    {
     "data": {
      "text/plain": [
       "200.35749238891063"
      ]
     },
     "execution_count": 42,
     "metadata": {},
     "output_type": "execute_result"
    }
   ],
   "source": [
    "SSR+SSD"
   ]
  },
  {
   "cell_type": "code",
   "execution_count": 43,
   "id": "7bf43af3",
   "metadata": {},
   "outputs": [],
   "source": [
    "R2= SSR/SST"
   ]
  },
  {
   "cell_type": "code",
   "execution_count": 44,
   "id": "6842ac9f",
   "metadata": {},
   "outputs": [
    {
     "data": {
      "text/plain": [
       "0.8198223300882875"
      ]
     },
     "execution_count": 44,
     "metadata": {},
     "output_type": "execute_result"
    }
   ],
   "source": [
    "R2"
   ]
  },
  {
   "cell_type": "code",
   "execution_count": 45,
   "id": "c0f69f50",
   "metadata": {},
   "outputs": [
    {
     "data": {
      "text/plain": [
       "(array([ 4.,  4.,  6., 15., 16., 16., 14., 17.,  3.,  5.]),\n",
       " array([-1.88576125, -1.52956073, -1.17336021, -0.81715969, -0.46095917,\n",
       "        -0.10475865,  0.25144187,  0.60764239,  0.96384291,  1.32004342,\n",
       "         1.67624394]),\n",
       " <BarContainer object of 10 artists>)"
      ]
     },
     "execution_count": 45,
     "metadata": {},
     "output_type": "execute_result"
    },
    {
     "data": {
      "image/png": "[encoded data removed]",
      "text/plain": [
       "<Figure size 432x288 with 1 Axes>"
      ]
     },
     "metadata": {
      "needs_background": "light"
     },
     "output_type": "display_data"
    }
   ],
   "source": [
    "#La representación de la distribución de las diferencias entre Y_pred e Y_act\n",
    "plt.hist(data[\"y_pred\"]-data[\"y\"])"
   ]
  },
  {
   "cell_type": "markdown",
   "id": "9cbc6884",
   "metadata": {},
   "source": [
    "## Obteniendo la recta de la regresión\n",
    "* y = a + b * x\n",
    "* b = sum((xi - x_m) * (yi - y_m)) / sum((xi - x_m)^2) --> Covarianza / Varianza\n",
    "* a = y_m - b * x_m"
   ]
  },
  {
   "cell_type": "code",
   "execution_count": 46,
   "id": "b2e59edb",
   "metadata": {},
   "outputs": [
    {
     "data": {
      "text/plain": [
       "(1.5796887892199771, 9.79953867729425)"
      ]
     },
     "execution_count": 46,
     "metadata": {},
     "output_type": "execute_result"
    }
   ],
   "source": [
    "x_mean= np.mean(data[\"x\"])\n",
    "y_mean= np.mean(data[\"y\"])\n",
    "\n",
    "x_mean, y_mean"
   ]
  },
  {
   "cell_type": "code",
   "execution_count": 47,
   "id": "aa03cb38",
   "metadata": {},
   "outputs": [],
   "source": [
    "data[\"beta_n\"]= (data[\"x\"] - x_mean) * (data[\"y\"] - y_mean)\n",
    "data[\"beta_d\"]= (data[\"x\"] - x_mean)**2\n",
    "\n",
    "beta= sum(data[\"beta_n\"])/sum(data[\"beta_d\"]) "
   ]
  },
  {
   "cell_type": "code",
   "execution_count": 48,
   "id": "6b4ba395",
   "metadata": {},
   "outputs": [],
   "source": [
    "alpha= y_mean - beta * x_mean"
   ]
  },
  {
   "cell_type": "code",
   "execution_count": 49,
   "id": "84032394",
   "metadata": {},
   "outputs": [
    {
     "data": {
      "text/plain": [
       "(9.091628004489436, 0.4481329978636916)"
      ]
     },
     "execution_count": 49,
     "metadata": {},
     "output_type": "execute_result"
    }
   ],
   "source": [
    "alpha, beta"
   ]
  },
  {
   "cell_type": "markdown",
   "id": "26a4a364",
   "metadata": {},
   "source": [
    "El modelo lineal obtenido por regresión es:\n",
    "\n",
    "**y = alpha + beta * x**"
   ]
  },
  {
   "cell_type": "code",
   "execution_count": 50,
   "id": "7eea12fd",
   "metadata": {},
   "outputs": [
    {
     "data": {
      "text/html": [
       "<div>\n",
       "<style scoped>\n",
       "    .dataframe tbody tr th:only-of-type {\n",
       "        vertical-align: middle;\n",
       "    }\n",
       "\n",
       "    .dataframe tbody tr th {\n",
       "        vertical-align: top;\n",
       "    }\n",
       "\n",
       "    .dataframe thead th {\n",
       "        text-align: right;\n",
       "    }\n",
       "</style>\n",
       "<table border=\"1\" class=\"dataframe\">\n",
       "  <thead>\n",
       "    <tr style=\"text-align: right;\">\n",
       "      <th></th>\n",
       "      <th>x</th>\n",
       "      <th>y</th>\n",
       "      <th>y_pred</th>\n",
       "      <th>SSR</th>\n",
       "      <th>SSD</th>\n",
       "      <th>SST</th>\n",
       "      <th>beta_n</th>\n",
       "      <th>beta_d</th>\n",
       "      <th>y_model</th>\n",
       "    </tr>\n",
       "  </thead>\n",
       "  <tbody>\n",
       "    <tr>\n",
       "      <th>0</th>\n",
       "      <td>1.772031</td>\n",
       "      <td>9.123263</td>\n",
       "      <td>9.886015</td>\n",
       "      <td>0.007478</td>\n",
       "      <td>0.581791</td>\n",
       "      <td>0.457349</td>\n",
       "      <td>-0.130076</td>\n",
       "      <td>0.036995</td>\n",
       "      <td>9.885733</td>\n",
       "    </tr>\n",
       "    <tr>\n",
       "      <th>1</th>\n",
       "      <td>1.688772</td>\n",
       "      <td>9.401970</td>\n",
       "      <td>9.844386</td>\n",
       "      <td>0.002011</td>\n",
       "      <td>0.195732</td>\n",
       "      <td>0.158061</td>\n",
       "      <td>-0.043368</td>\n",
       "      <td>0.011899</td>\n",
       "      <td>9.848422</td>\n",
       "    </tr>\n",
       "    <tr>\n",
       "      <th>2</th>\n",
       "      <td>-0.984121</td>\n",
       "      <td>7.781694</td>\n",
       "      <td>8.507939</td>\n",
       "      <td>1.668229</td>\n",
       "      <td>0.527432</td>\n",
       "      <td>4.071695</td>\n",
       "      <td>5.173370</td>\n",
       "      <td>6.573122</td>\n",
       "      <td>8.650611</td>\n",
       "    </tr>\n",
       "    <tr>\n",
       "      <th>3</th>\n",
       "      <td>2.177357</td>\n",
       "      <td>10.504764</td>\n",
       "      <td>10.088678</td>\n",
       "      <td>0.083602</td>\n",
       "      <td>0.173127</td>\n",
       "      <td>0.497342</td>\n",
       "      <td>0.421490</td>\n",
       "      <td>0.357207</td>\n",
       "      <td>10.067373</td>\n",
       "    </tr>\n",
       "    <tr>\n",
       "      <th>4</th>\n",
       "      <td>1.301786</td>\n",
       "      <td>11.047544</td>\n",
       "      <td>9.650893</td>\n",
       "      <td>0.022095</td>\n",
       "      <td>1.950634</td>\n",
       "      <td>1.557518</td>\n",
       "      <td>-0.346824</td>\n",
       "      <td>0.077230</td>\n",
       "      <td>9.675001</td>\n",
       "    </tr>\n",
       "  </tbody>\n",
       "</table>\n",
       "</div>"
      ],
      "text/plain": [
       "          x          y     y_pred       SSR       SSD       SST    beta_n  \\\n",
       "0  1.772031   9.123263   9.886015  0.007478  0.581791  0.457349 -0.130076   \n",
       "1  1.688772   9.401970   9.844386  0.002011  0.195732  0.158061 -0.043368   \n",
       "2 -0.984121   7.781694   8.507939  1.668229  0.527432  4.071695  5.173370   \n",
       "3  2.177357  10.504764  10.088678  0.083602  0.173127  0.497342  0.421490   \n",
       "4  1.301786  11.047544   9.650893  0.022095  1.950634  1.557518 -0.346824   \n",
       "\n",
       "     beta_d    y_model  \n",
       "0  0.036995   9.885733  \n",
       "1  0.011899   9.848422  \n",
       "2  6.573122   8.650611  \n",
       "3  0.357207  10.067373  \n",
       "4  0.077230   9.675001  "
      ]
     },
     "execution_count": 50,
     "metadata": {},
     "output_type": "execute_result"
    }
   ],
   "source": [
    "data[\"y_model\"]= alpha + beta * data[\"x\"]\n",
    "\n",
    "data.head()"
   ]
  },
  {
   "cell_type": "code",
   "execution_count": 51,
   "id": "bea548be",
   "metadata": {},
   "outputs": [],
   "source": [
    "SSR= sum((data[\"y_model\"]-y_mean)**2)\n",
    "SSD= sum((data[\"y_model\"]-data[\"y\"])**2)\n",
    "SST= sum((data[\"y\"]- y_mean)**2)"
   ]
  },
  {
   "cell_type": "code",
   "execution_count": 52,
   "id": "b9fc0523",
   "metadata": {},
   "outputs": [
    {
     "data": {
      "text/plain": [
       "(112.74971585251204, 58.46888788769374, 171.21860374020568)"
      ]
     },
     "execution_count": 52,
     "metadata": {},
     "output_type": "execute_result"
    }
   ],
   "source": [
    "SSR, SSD, SST"
   ]
  },
  {
   "cell_type": "code",
   "execution_count": 53,
   "id": "cd8f24cd",
   "metadata": {},
   "outputs": [
    {
     "data": {
      "text/plain": [
       "0.6585132303939941"
      ]
     },
     "execution_count": 53,
     "metadata": {},
     "output_type": "execute_result"
    }
   ],
   "source": [
    "R2= SSR/SST\n",
    "R2\n"
   ]
  },
  {
   "cell_type": "code",
   "execution_count": 54,
   "id": "f3ca0d5c",
   "metadata": {},
   "outputs": [
    {
     "data": {
      "text/plain": [
       "Text(0.5, 1.0, 'Valor Actual vs Predicción')"
      ]
     },
     "execution_count": 54,
     "metadata": {},
     "output_type": "execute_result"
    },
    {
     "data": {
      "image/png": "[encoded data removed]",
      "text/plain": [
       "<Figure size 432x288 with 1 Axes>"
      ]
     },
     "metadata": {
      "needs_background": "light"
     },
     "output_type": "display_data"
    }
   ],
   "source": [
    "%matplotlib inline\n",
    "\n",
    "y_mean= [np.mean(y_act) for i in range(1, len(x_list) + 1)]\n",
    "\n",
    "plt.plot(data[\"x\"], data[\"y_pred\"])\n",
    "plt.plot(data[\"x\"], data[\"y\"], \"ro\")\n",
    "plt.plot(data[\"x\"], y_mean, \"g\")\n",
    "plt.plot(data[\"x\"], data[\"y_model\"])\n",
    "plt.title(\"Valor Actual vs Predicción\")"
   ]
  },
  {
   "cell_type": "markdown",
   "id": "a54dad70",
   "metadata": {},
   "source": [
    "## Interpretar los parámetros de la Regresión\n",
    "Para ver si una regresión es buena o no, observamos R2. Pero no nos podemos basar solamente en este parámetro."
   ]
  },
  {
   "cell_type": "markdown",
   "id": "28d57401",
   "metadata": {},
   "source": [
    "### El p-valor\n",
    "Calcular alpha y beta nos da estimadores, no son exactos, por lo que se puede hacer una contraste de hipótesis. \n",
    "\n",
    "Ver si **b** tiene tendencia a ser cero (cero o cercano a este), entonces **a** sería igual al valor promerdio de las y (y_mean) y no habría correlación alguna entre x e y:\n",
    "\n",
    "**H0 : b = 0**\n",
    "\n",
    "**H1 : b != 0**\n",
    "\n",
    "Si el t-estadístico ó el p-valor resultante es menor que el nivel de significación, rechazamos la hipótesis nula y aceptamos que exista relación lineal entre x e y.\n",
    "\n",
    "Esto se puede utilizar para identificar que valores de entrada (columnas) no son significativas para nuestro modelo. Aquellas que tengan mayor p-valor serán las primeras a descartar."
   ]
  },
  {
   "cell_type": "markdown",
   "id": "17580af6",
   "metadata": {},
   "source": [
    "### El estadístico F (distribución de Fisher)\n",
    "\n",
    "Para el caso de una regresión lineal múltiple, el modelo tiene más parámetros.\n",
    "\n",
    "**$Ye = a + \\sum_{i=0}^{n}(bi * xi)$**\n",
    "\n",
    "Tambien se plantea el contraste de hipótesis para comprobar la existencia de la relación.\n",
    "\n",
    "**H0 : b1 = b2 = ... bk = 0**\n",
    "\n",
    "**H1 : bi != 0 para alguna i**\n",
    "\n",
    "**F=(SSR/k)/(SSD/(n-k-1))   ;   p= P(F > Fk, n-k-1)**\n",
    "\n",
    "**SST = sum(yi - y_mean)^2 , SSR= sum(y(xi) - y_mean)^2 , SSD= sum(yi - y(xi))^2**\n",
    "\n",
    "\n",
    "\n",
    "En el caso de una regresión multiple:\n",
    "* Mirar el nivel de significación de cada parámetro por separado, puede ser realmente pequeño y aceptar la hipótesis alternativa de que cada uno por separado no es nulo y existe correlación entre la predicción y cada variable predictora por separado.\n",
    "\n",
    "* Si los miramos todos juntos, podría ocurrir que el p-valor fuera grande y acabáramos aceptando la hipótesis nula de que el conjunto de variables predictoras no guarda relación alguna con la predicción.\n"
   ]
  },
  {
   "cell_type": "markdown",
   "id": "3c79af8c",
   "metadata": {},
   "source": [
    "### El error estándar residual (RSE)\n",
    "\n",
    "RSE es la desviación estandar del error.\n",
    "\n",
    "**RSE = raiz(((sum(yi - y(xi))^2)/(n - 2)) = raiz(SSD/(n - 2))**\n",
    "\n",
    "En el caso de la regresión lineal múltiple:\n",
    "\n",
    "**RSE = raiz(SSD/(n-k-1))**"
   ]
  },
  {
   "cell_type": "code",
   "execution_count": 57,
   "id": "8bbf706e",
   "metadata": {},
   "outputs": [
    {
     "data": {
      "text/plain": [
       "0.7724126520043977"
      ]
     },
     "execution_count": 57,
     "metadata": {},
     "output_type": "execute_result"
    }
   ],
   "source": [
    "RSE= np.sqrt(SSD/(len(data)-2))\n",
    "RSE"
   ]
  },
  {
   "cell_type": "code",
   "execution_count": 58,
   "id": "6e62bea7",
   "metadata": {},
   "outputs": [
    {
     "data": {
      "text/plain": [
       "9.79953867729425"
      ]
     },
     "execution_count": 58,
     "metadata": {},
     "output_type": "execute_result"
    }
   ],
   "source": [
    "np.mean(data[\"y\"])"
   ]
  },
  {
   "cell_type": "code",
   "execution_count": 60,
   "id": "9dbe3844",
   "metadata": {},
   "outputs": [
    {
     "data": {
      "text/plain": [
       "0.07882132796660063"
      ]
     },
     "execution_count": 60,
     "metadata": {},
     "output_type": "execute_result"
    }
   ],
   "source": [
    "RSE/np.mean(data[\"y\"])"
   ]
  }
 ],
 "metadata": {
  "kernelspec": {
   "display_name": "Python 3",
   "language": "python",
   "name": "python3"
  },
  "language_info": {
   "codemirror_mode": {
    "name": "ipython",
    "version": 3
   },
   "file_extension": ".py",
   "mimetype": "text/x-python",
   "name": "python",
   "nbconvert_exporter": "python",
   "pygments_lexer": "ipython3",
   "version": "3.8.10"
  }
 },
 "nbformat": 4,
 "nbformat_minor": 5
}
