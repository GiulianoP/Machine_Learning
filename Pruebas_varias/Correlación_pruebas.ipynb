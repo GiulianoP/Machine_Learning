{
 "cells": [
  {
   "cell_type": "code",
   "execution_count": 31,
   "metadata": {
    "colab": {
     "base_uri": "https://localhost:8080/"
    },
    "id": "ZMY8kvWsrOT5",
    "outputId": "eebd21ab-6ce9-4e92-c5b1-148f7a4efdfd"
   },
   "outputs": [],
   "source": [
    "%config IPCompleter.greedy=True\n",
    "\n",
    "#Se importa la libreria para acceder a Google Drive\n",
    "#from google.colab import drive\n",
    "import pandas as pd\n",
    "import numpy as np\n",
    "import matplotlib.pyplot as plt\n",
    "import seaborn as sns\n",
    "\n",
    "import os\n",
    "\n",
    "#Se establece la conexión con Google Drive\n",
    "#drive.mount('/content/drive')\n"
   ]
  },
  {
   "cell_type": "code",
   "execution_count": 8,
   "metadata": {
    "id": "bcN7SXqrtOaN"
   },
   "outputs": [],
   "source": [
    "#Ruta de acceso a Datos\n",
    "#mainspath= '/content/drive/My Drive/Python/Datasets'\n",
    "\n",
    "#filename= 'Advertising.csv'\n",
    "\n",
    "#fullpath= os.path.join(mainspath, filename)\n",
    "\n",
    "#Path desde GitHub\n",
    "fullpath= \"https://raw.githubusercontent.com/GiulianoP/Datasets/main/ads/Advertising.csv?token=GHSAT0AAAAAABVZ6CXAWJEDJYIYMJUDMF5OYVU5WIA\"\n"
   ]
  },
  {
   "cell_type": "code",
   "execution_count": 10,
   "metadata": {
    "colab": {
     "base_uri": "https://localhost:8080/",
     "height": 206
    },
    "id": "hdkH5gJhuKol",
    "outputId": "c54661c9-9527-4021-ac7e-f8642b306916"
   },
   "outputs": [
    {
     "data": {
      "text/html": [
       "<div>\n",
       "<style scoped>\n",
       "    .dataframe tbody tr th:only-of-type {\n",
       "        vertical-align: middle;\n",
       "    }\n",
       "\n",
       "    .dataframe tbody tr th {\n",
       "        vertical-align: top;\n",
       "    }\n",
       "\n",
       "    .dataframe thead th {\n",
       "        text-align: right;\n",
       "    }\n",
       "</style>\n",
       "<table border=\"1\" class=\"dataframe\">\n",
       "  <thead>\n",
       "    <tr style=\"text-align: right;\">\n",
       "      <th></th>\n",
       "      <th>TV</th>\n",
       "      <th>Radio</th>\n",
       "      <th>Newspaper</th>\n",
       "      <th>Sales</th>\n",
       "    </tr>\n",
       "  </thead>\n",
       "  <tbody>\n",
       "    <tr>\n",
       "      <th>0</th>\n",
       "      <td>230.1</td>\n",
       "      <td>37.8</td>\n",
       "      <td>69.2</td>\n",
       "      <td>22.1</td>\n",
       "    </tr>\n",
       "    <tr>\n",
       "      <th>1</th>\n",
       "      <td>44.5</td>\n",
       "      <td>39.3</td>\n",
       "      <td>45.1</td>\n",
       "      <td>10.4</td>\n",
       "    </tr>\n",
       "    <tr>\n",
       "      <th>2</th>\n",
       "      <td>17.2</td>\n",
       "      <td>45.9</td>\n",
       "      <td>69.3</td>\n",
       "      <td>9.3</td>\n",
       "    </tr>\n",
       "    <tr>\n",
       "      <th>3</th>\n",
       "      <td>151.5</td>\n",
       "      <td>41.3</td>\n",
       "      <td>58.5</td>\n",
       "      <td>18.5</td>\n",
       "    </tr>\n",
       "    <tr>\n",
       "      <th>4</th>\n",
       "      <td>180.8</td>\n",
       "      <td>10.8</td>\n",
       "      <td>58.4</td>\n",
       "      <td>12.9</td>\n",
       "    </tr>\n",
       "  </tbody>\n",
       "</table>\n",
       "</div>"
      ],
      "text/plain": [
       "      TV  Radio  Newspaper  Sales\n",
       "0  230.1   37.8       69.2   22.1\n",
       "1   44.5   39.3       45.1   10.4\n",
       "2   17.2   45.9       69.3    9.3\n",
       "3  151.5   41.3       58.5   18.5\n",
       "4  180.8   10.8       58.4   12.9"
      ]
     },
     "execution_count": 10,
     "metadata": {},
     "output_type": "execute_result"
    }
   ],
   "source": [
    "data_ads= pd.read_csv(fullpath)\n",
    "\n",
    "data_ads.head()"
   ]
  },
  {
   "cell_type": "code",
   "execution_count": 11,
   "metadata": {
    "colab": {
     "base_uri": "https://localhost:8080/"
    },
    "id": "DEIsLOwluWqJ",
    "outputId": "95ef5506-0a9a-43ef-8253-8ffd1ada55a9"
   },
   "outputs": [
    {
     "data": {
      "text/plain": [
       "200"
      ]
     },
     "execution_count": 11,
     "metadata": {},
     "output_type": "execute_result"
    }
   ],
   "source": [
    "len(data_ads)"
   ]
  },
  {
   "cell_type": "code",
   "execution_count": 12,
   "metadata": {
    "id": "Md2Mi3QDuZNG"
   },
   "outputs": [],
   "source": [
    "data_ads[\"corrn\"] = (data_ads[\"TV\"] - np.mean(data_ads[\"TV\"])) * (data_ads[\"Sales\"] - np.mean(data_ads[\"Sales\"])) #Numerador de la correlación de Pearson"
   ]
  },
  {
   "cell_type": "code",
   "execution_count": 13,
   "metadata": {
    "colab": {
     "base_uri": "https://localhost:8080/",
     "height": 206
    },
    "id": "mFHfRSgJvsPG",
    "outputId": "b5db2251-6fca-49ce-fd1b-d74378197045"
   },
   "outputs": [
    {
     "data": {
      "text/html": [
       "<div>\n",
       "<style scoped>\n",
       "    .dataframe tbody tr th:only-of-type {\n",
       "        vertical-align: middle;\n",
       "    }\n",
       "\n",
       "    .dataframe tbody tr th {\n",
       "        vertical-align: top;\n",
       "    }\n",
       "\n",
       "    .dataframe thead th {\n",
       "        text-align: right;\n",
       "    }\n",
       "</style>\n",
       "<table border=\"1\" class=\"dataframe\">\n",
       "  <thead>\n",
       "    <tr style=\"text-align: right;\">\n",
       "      <th></th>\n",
       "      <th>TV</th>\n",
       "      <th>Radio</th>\n",
       "      <th>Newspaper</th>\n",
       "      <th>Sales</th>\n",
       "      <th>corrn</th>\n",
       "    </tr>\n",
       "  </thead>\n",
       "  <tbody>\n",
       "    <tr>\n",
       "      <th>0</th>\n",
       "      <td>230.1</td>\n",
       "      <td>37.8</td>\n",
       "      <td>69.2</td>\n",
       "      <td>22.1</td>\n",
       "      <td>670.896956</td>\n",
       "    </tr>\n",
       "    <tr>\n",
       "      <th>1</th>\n",
       "      <td>44.5</td>\n",
       "      <td>39.3</td>\n",
       "      <td>45.1</td>\n",
       "      <td>10.4</td>\n",
       "      <td>371.460206</td>\n",
       "    </tr>\n",
       "    <tr>\n",
       "      <th>2</th>\n",
       "      <td>17.2</td>\n",
       "      <td>45.9</td>\n",
       "      <td>69.3</td>\n",
       "      <td>9.3</td>\n",
       "      <td>613.181206</td>\n",
       "    </tr>\n",
       "    <tr>\n",
       "      <th>3</th>\n",
       "      <td>151.5</td>\n",
       "      <td>41.3</td>\n",
       "      <td>58.5</td>\n",
       "      <td>18.5</td>\n",
       "      <td>19.958456</td>\n",
       "    </tr>\n",
       "    <tr>\n",
       "      <th>4</th>\n",
       "      <td>180.8</td>\n",
       "      <td>10.8</td>\n",
       "      <td>58.4</td>\n",
       "      <td>12.9</td>\n",
       "      <td>-37.892794</td>\n",
       "    </tr>\n",
       "  </tbody>\n",
       "</table>\n",
       "</div>"
      ],
      "text/plain": [
       "      TV  Radio  Newspaper  Sales       corrn\n",
       "0  230.1   37.8       69.2   22.1  670.896956\n",
       "1   44.5   39.3       45.1   10.4  371.460206\n",
       "2   17.2   45.9       69.3    9.3  613.181206\n",
       "3  151.5   41.3       58.5   18.5   19.958456\n",
       "4  180.8   10.8       58.4   12.9  -37.892794"
      ]
     },
     "execution_count": 13,
     "metadata": {},
     "output_type": "execute_result"
    }
   ],
   "source": [
    "data_ads.head()"
   ]
  },
  {
   "cell_type": "code",
   "execution_count": 14,
   "metadata": {
    "id": "PwLXqvwwvuti"
   },
   "outputs": [],
   "source": [
    "data_ads[\"corr1\"]= (data_ads[\"TV\"] - np.mean(data_ads[\"TV\"]))**2"
   ]
  },
  {
   "cell_type": "code",
   "execution_count": 15,
   "metadata": {
    "colab": {
     "base_uri": "https://localhost:8080/",
     "height": 206
    },
    "id": "5xI9wn5RwNrR",
    "outputId": "6447e775-8c4c-4024-871c-1de7960bc4e5"
   },
   "outputs": [
    {
     "data": {
      "text/html": [
       "<div>\n",
       "<style scoped>\n",
       "    .dataframe tbody tr th:only-of-type {\n",
       "        vertical-align: middle;\n",
       "    }\n",
       "\n",
       "    .dataframe tbody tr th {\n",
       "        vertical-align: top;\n",
       "    }\n",
       "\n",
       "    .dataframe thead th {\n",
       "        text-align: right;\n",
       "    }\n",
       "</style>\n",
       "<table border=\"1\" class=\"dataframe\">\n",
       "  <thead>\n",
       "    <tr style=\"text-align: right;\">\n",
       "      <th></th>\n",
       "      <th>TV</th>\n",
       "      <th>Radio</th>\n",
       "      <th>Newspaper</th>\n",
       "      <th>Sales</th>\n",
       "      <th>corrn</th>\n",
       "      <th>corr1</th>\n",
       "    </tr>\n",
       "  </thead>\n",
       "  <tbody>\n",
       "    <tr>\n",
       "      <th>0</th>\n",
       "      <td>230.1</td>\n",
       "      <td>37.8</td>\n",
       "      <td>69.2</td>\n",
       "      <td>22.1</td>\n",
       "      <td>670.896956</td>\n",
       "      <td>6898.548306</td>\n",
       "    </tr>\n",
       "    <tr>\n",
       "      <th>1</th>\n",
       "      <td>44.5</td>\n",
       "      <td>39.3</td>\n",
       "      <td>45.1</td>\n",
       "      <td>10.4</td>\n",
       "      <td>371.460206</td>\n",
       "      <td>10514.964306</td>\n",
       "    </tr>\n",
       "    <tr>\n",
       "      <th>2</th>\n",
       "      <td>17.2</td>\n",
       "      <td>45.9</td>\n",
       "      <td>69.3</td>\n",
       "      <td>9.3</td>\n",
       "      <td>613.181206</td>\n",
       "      <td>16859.074806</td>\n",
       "    </tr>\n",
       "    <tr>\n",
       "      <th>3</th>\n",
       "      <td>151.5</td>\n",
       "      <td>41.3</td>\n",
       "      <td>58.5</td>\n",
       "      <td>18.5</td>\n",
       "      <td>19.958456</td>\n",
       "      <td>19.869306</td>\n",
       "    </tr>\n",
       "    <tr>\n",
       "      <th>4</th>\n",
       "      <td>180.8</td>\n",
       "      <td>10.8</td>\n",
       "      <td>58.4</td>\n",
       "      <td>12.9</td>\n",
       "      <td>-37.892794</td>\n",
       "      <td>1139.568806</td>\n",
       "    </tr>\n",
       "  </tbody>\n",
       "</table>\n",
       "</div>"
      ],
      "text/plain": [
       "      TV  Radio  Newspaper  Sales       corrn         corr1\n",
       "0  230.1   37.8       69.2   22.1  670.896956   6898.548306\n",
       "1   44.5   39.3       45.1   10.4  371.460206  10514.964306\n",
       "2   17.2   45.9       69.3    9.3  613.181206  16859.074806\n",
       "3  151.5   41.3       58.5   18.5   19.958456     19.869306\n",
       "4  180.8   10.8       58.4   12.9  -37.892794   1139.568806"
      ]
     },
     "execution_count": 15,
     "metadata": {},
     "output_type": "execute_result"
    }
   ],
   "source": [
    "data_ads.head()"
   ]
  },
  {
   "cell_type": "code",
   "execution_count": 16,
   "metadata": {
    "id": "1_JM1GIrwPo2"
   },
   "outputs": [],
   "source": [
    "data_ads[\"corr2\"]= (data_ads[\"Sales\"] - np.mean(data_ads[\"Sales\"]))**2"
   ]
  },
  {
   "cell_type": "code",
   "execution_count": 17,
   "metadata": {
    "colab": {
     "base_uri": "https://localhost:8080/",
     "height": 206
    },
    "id": "SrjsZpg1wUaj",
    "outputId": "f81dc1b6-09b6-49d4-ba9b-d232dff6cb4b"
   },
   "outputs": [
    {
     "data": {
      "text/html": [
       "<div>\n",
       "<style scoped>\n",
       "    .dataframe tbody tr th:only-of-type {\n",
       "        vertical-align: middle;\n",
       "    }\n",
       "\n",
       "    .dataframe tbody tr th {\n",
       "        vertical-align: top;\n",
       "    }\n",
       "\n",
       "    .dataframe thead th {\n",
       "        text-align: right;\n",
       "    }\n",
       "</style>\n",
       "<table border=\"1\" class=\"dataframe\">\n",
       "  <thead>\n",
       "    <tr style=\"text-align: right;\">\n",
       "      <th></th>\n",
       "      <th>TV</th>\n",
       "      <th>Radio</th>\n",
       "      <th>Newspaper</th>\n",
       "      <th>Sales</th>\n",
       "      <th>corrn</th>\n",
       "      <th>corr1</th>\n",
       "      <th>corr2</th>\n",
       "    </tr>\n",
       "  </thead>\n",
       "  <tbody>\n",
       "    <tr>\n",
       "      <th>0</th>\n",
       "      <td>230.1</td>\n",
       "      <td>37.8</td>\n",
       "      <td>69.2</td>\n",
       "      <td>22.1</td>\n",
       "      <td>670.896956</td>\n",
       "      <td>6898.548306</td>\n",
       "      <td>65.246006</td>\n",
       "    </tr>\n",
       "    <tr>\n",
       "      <th>1</th>\n",
       "      <td>44.5</td>\n",
       "      <td>39.3</td>\n",
       "      <td>45.1</td>\n",
       "      <td>10.4</td>\n",
       "      <td>371.460206</td>\n",
       "      <td>10514.964306</td>\n",
       "      <td>13.122506</td>\n",
       "    </tr>\n",
       "    <tr>\n",
       "      <th>2</th>\n",
       "      <td>17.2</td>\n",
       "      <td>45.9</td>\n",
       "      <td>69.3</td>\n",
       "      <td>9.3</td>\n",
       "      <td>613.181206</td>\n",
       "      <td>16859.074806</td>\n",
       "      <td>22.302006</td>\n",
       "    </tr>\n",
       "    <tr>\n",
       "      <th>3</th>\n",
       "      <td>151.5</td>\n",
       "      <td>41.3</td>\n",
       "      <td>58.5</td>\n",
       "      <td>18.5</td>\n",
       "      <td>19.958456</td>\n",
       "      <td>19.869306</td>\n",
       "      <td>20.048006</td>\n",
       "    </tr>\n",
       "    <tr>\n",
       "      <th>4</th>\n",
       "      <td>180.8</td>\n",
       "      <td>10.8</td>\n",
       "      <td>58.4</td>\n",
       "      <td>12.9</td>\n",
       "      <td>-37.892794</td>\n",
       "      <td>1139.568806</td>\n",
       "      <td>1.260006</td>\n",
       "    </tr>\n",
       "  </tbody>\n",
       "</table>\n",
       "</div>"
      ],
      "text/plain": [
       "      TV  Radio  Newspaper  Sales       corrn         corr1      corr2\n",
       "0  230.1   37.8       69.2   22.1  670.896956   6898.548306  65.246006\n",
       "1   44.5   39.3       45.1   10.4  371.460206  10514.964306  13.122506\n",
       "2   17.2   45.9       69.3    9.3  613.181206  16859.074806  22.302006\n",
       "3  151.5   41.3       58.5   18.5   19.958456     19.869306  20.048006\n",
       "4  180.8   10.8       58.4   12.9  -37.892794   1139.568806   1.260006"
      ]
     },
     "execution_count": 17,
     "metadata": {},
     "output_type": "execute_result"
    }
   ],
   "source": [
    "data_ads.head()"
   ]
  },
  {
   "cell_type": "code",
   "execution_count": 18,
   "metadata": {
    "id": "p2mehjZ9wWPt"
   },
   "outputs": [],
   "source": [
    "corr_pearson= sum(data_ads[\"corrn\"])/np.sqrt(sum(data_ads[\"corr1\"]) * sum(data_ads[\"corr2\"]))"
   ]
  },
  {
   "cell_type": "code",
   "execution_count": 19,
   "metadata": {
    "colab": {
     "base_uri": "https://localhost:8080/"
    },
    "id": "OY_WywhOw6GL",
    "outputId": "59979194-b06c-44a5-92cf-9ed11bcf0f3a"
   },
   "outputs": [
    {
     "data": {
      "text/plain": [
       "0.782224424861606"
      ]
     },
     "execution_count": 19,
     "metadata": {},
     "output_type": "execute_result"
    }
   ],
   "source": [
    "corr_pearson"
   ]
  },
  {
   "cell_type": "code",
   "execution_count": 20,
   "metadata": {
    "id": "Z9F4ZBOyw73f"
   },
   "outputs": [],
   "source": [
    "def corr_coef (df, var1, var2):\n",
    "  df[\"corrn\"] = (df[var1] - np.mean(df[var1])) * (df[var2] - np.mean(df[var2]))\n",
    "  df[\"corr1\"]= (df[var1] - np.mean(df[var1]))**2\n",
    "  df[\"corr2\"]= (df[var2] - np.mean(df[var2]))**2\n",
    "  corr_pearson= sum(df[\"corrn\"])/np.sqrt(sum(df[\"corr1\"]) * sum(df[\"corr2\"]))\n",
    "  return corr_pearson"
   ]
  },
  {
   "cell_type": "markdown",
   "metadata": {},
   "source": [
    "* Una correlación menor a 0.6 es mera casualidad, no se debe tener en cuenta.\n",
    "* Que haya correlación no explica que haya causalidad debido a un único factor. Puede que se deba a varios factores."
   ]
  },
  {
   "cell_type": "code",
   "execution_count": 21,
   "metadata": {
    "colab": {
     "base_uri": "https://localhost:8080/"
    },
    "id": "UwUQygtByF-K",
    "outputId": "7a5b658c-ec16-49bd-ca41-f2664e222a8b"
   },
   "outputs": [
    {
     "data": {
      "text/plain": [
       "0.782224424861606"
      ]
     },
     "execution_count": 21,
     "metadata": {},
     "output_type": "execute_result"
    }
   ],
   "source": [
    "corr_coef(data_ads, \"TV\", \"Sales\")"
   ]
  },
  {
   "cell_type": "code",
   "execution_count": 22,
   "metadata": {
    "colab": {
     "base_uri": "https://localhost:8080/"
    },
    "id": "ijOEiaqJyNZ_",
    "outputId": "ad6f0f1c-4ed0-4f65-ce44-e161b1eb56bc"
   },
   "outputs": [
    {
     "data": {
      "text/plain": [
       "0.5762225745710553"
      ]
     },
     "execution_count": 22,
     "metadata": {},
     "output_type": "execute_result"
    }
   ],
   "source": [
    "corr_coef(data_ads, \"Radio\", \"Sales\")"
   ]
  },
  {
   "cell_type": "code",
   "execution_count": 23,
   "metadata": {
    "colab": {
     "base_uri": "https://localhost:8080/"
    },
    "id": "YsuK7Fq_yX8m",
    "outputId": "b1de87e2-0724-49ce-eab3-69834b6f00e8"
   },
   "outputs": [
    {
     "data": {
      "text/plain": [
       "0.22829902637616525"
      ]
     },
     "execution_count": 23,
     "metadata": {},
     "output_type": "execute_result"
    }
   ],
   "source": [
    "corr_coef(data_ads, \"Newspaper\", \"Sales\")"
   ]
  },
  {
   "cell_type": "code",
   "execution_count": 24,
   "metadata": {
    "colab": {
     "base_uri": "https://localhost:8080/"
    },
    "id": "VJq9ACxkyqaM",
    "outputId": "0f781f5f-b44f-4418-9023-341f37ec8cdc"
   },
   "outputs": [
    {
     "name": "stdout",
     "output_type": "stream",
     "text": [
      "['TV' 'Radio' 'Newspaper' 'Sales' 'corrn' 'corr1' 'corr2']\n"
     ]
    }
   ],
   "source": [
    "#Se vuele a hacer la carga primeramente\n",
    "cols= data_ads.columns.values\n",
    "print(cols)"
   ]
  },
  {
   "cell_type": "code",
   "execution_count": 25,
   "metadata": {
    "colab": {
     "base_uri": "https://localhost:8080/"
    },
    "id": "jcz_c-xny906",
    "outputId": "3b32d458-21cf-4b8d-b3d2-b5d8ba59ec56"
   },
   "outputs": [
    {
     "name": "stdout",
     "output_type": "stream",
     "text": [
      "correlación de TV y TV es: 1.0\n",
      "correlación de TV y Radio es: 0.05480866446583009\n",
      "correlación de TV y Newspaper es: 0.056647874965056993\n",
      "correlación de TV y Sales es: 0.782224424861606\n",
      "correlación de TV y corrn es: -0.0011216033233262073\n",
      "correlación de TV y corr1 es: -0.07879735036509569\n",
      "correlación de TV y corr2 es: -0.04435683271077501\n",
      "correlación de Radio y TV es: 0.05480866446583009\n",
      "correlación de Radio y Radio es: 1.0\n",
      "correlación de Radio y Newspaper es: 0.3541037507611752\n",
      "correlación de Radio y Sales es: 0.5762225745710553\n",
      "correlación de Radio y corrn es: 0.003367194224496663\n",
      "correlación de Radio y corr1 es: 0.1085768694522202\n",
      "correlación de Radio y corr2 es: 0.28933391270094067\n",
      "correlación de Newspaper y TV es: 0.056647874965056993\n",
      "correlación de Newspaper y Radio es: 0.3541037507611752\n",
      "correlación de Newspaper y Newspaper es: 1.0\n",
      "correlación de Newspaper y Sales es: 0.22829902637616525\n",
      "correlación de Newspaper y corrn es: 0.004654495262249754\n",
      "correlación de Newspaper y corr1 es: 0.5503385875778577\n",
      "correlación de Newspaper y corr2 es: 0.45100034081887913\n",
      "correlación de Sales y TV es: 0.782224424861606\n",
      "correlación de Sales y Radio es: 0.5762225745710553\n",
      "correlación de Sales y Newspaper es: 0.22829902637616525\n",
      "correlación de Sales y Sales es: 1.0\n",
      "correlación de Sales y corrn es: 0.03435823617756815\n",
      "correlación de Sales y corr1 es: 0.3226857579432848\n",
      "correlación de Sales y corr2 es: 0.3391108854965276\n",
      "correlación de corrn y TV es: 0.002251660616088983\n",
      "correlación de corrn y Radio es: 0.013091062391317217\n",
      "correlación de corrn y Newspaper es: 0.003001645088966566\n",
      "correlación de corrn y Sales es: 0.024153958772562194\n",
      "correlación de corrn y corrn es: 4.270814364668996e-23\n",
      "correlación de corrn y corr1 es: 0.0\n",
      "correlación de corrn y corr2 es: nan\n",
      "correlación de corr1 y TV es: nan\n",
      "correlación de corr1 y Radio es: nan\n",
      "correlación de corr1 y Newspaper es: nan\n",
      "correlación de corr1 y Sales es: nan\n",
      "correlación de corr1 y corrn es: nan\n",
      "correlación de corr1 y corr1 es: nan\n",
      "correlación de corr1 y corr2 es: nan\n",
      "correlación de corr2 y TV es: nan\n",
      "correlación de corr2 y Radio es: 0.09688383823127499\n",
      "correlación de corr2 y Newspaper es: 0.11260065764199123\n",
      "correlación de corr2 y Sales es: 0.128114785326295\n",
      "correlación de corr2 y corrn es: 0.003089070073205487\n",
      "correlación de corr2 y corr1 es: 1.3749501703897984e-22\n",
      "correlación de corr2 y corr2 es: 1.0\n"
     ]
    }
   ],
   "source": [
    "for x in cols:\n",
    "  for y in cols:\n",
    "    print('correlación de ' + x + ' y ' + y + ' es: ' + str(corr_coef(data_ads, x, y)))"
   ]
  },
  {
   "cell_type": "code",
   "execution_count": 26,
   "metadata": {
    "colab": {
     "base_uri": "https://localhost:8080/",
     "height": 298
    },
    "id": "4gDjJUit0P8t",
    "outputId": "e3355668-4644-45ca-8b6c-12e2c54a86f2"
   },
   "outputs": [
    {
     "data": {
      "text/plain": [
       "Text(0.5, 1.0, 'Gasto en TV vs Ventas del Producto')"
      ]
     },
     "execution_count": 26,
     "metadata": {},
     "output_type": "execute_result"
    },
    {
     "data": {
      "image/png": "[encoded data removed]",
      "text/plain": [
       "<Figure size 432x288 with 1 Axes>"
      ]
     },
     "metadata": {
      "needs_background": "light"
     },
     "output_type": "display_data"
    }
   ],
   "source": [
    "plt.plot(data_ads[\"TV\"], data_ads[\"Sales\"], \"ro\")\n",
    "plt.title(\"Gasto en TV vs Ventas del Producto\")"
   ]
  },
  {
   "cell_type": "code",
   "execution_count": 27,
   "metadata": {
    "colab": {
     "base_uri": "https://localhost:8080/",
     "height": 298
    },
    "id": "lhsGuatU0gtF",
    "outputId": "69099365-9661-4618-c2e2-6b292d5c1431"
   },
   "outputs": [
    {
     "data": {
      "text/plain": [
       "Text(0.5, 1.0, 'Gasto en Radio vs Ventas del Producto')"
      ]
     },
     "execution_count": 27,
     "metadata": {},
     "output_type": "execute_result"
    },
    {
     "data": {
      "image/png": "[encoded data removed]",
      "text/plain": [
       "<Figure size 432x288 with 1 Axes>"
      ]
     },
     "metadata": {
      "needs_background": "light"
     },
     "output_type": "display_data"
    }
   ],
   "source": [
    "plt.plot(data_ads[\"Radio\"], data_ads[\"Sales\"], \"bx\")\n",
    "plt.title(\"Gasto en Radio vs Ventas del Producto\")"
   ]
  },
  {
   "cell_type": "code",
   "execution_count": 28,
   "metadata": {
    "colab": {
     "base_uri": "https://localhost:8080/",
     "height": 298
    },
    "id": "gv9eFo_I0s4i",
    "outputId": "5ea90593-2260-4854-885f-66e28d37a316"
   },
   "outputs": [
    {
     "data": {
      "text/plain": [
       "Text(0.5, 1.0, 'Gasto en Newspaper vs Ventas del Producto')"
      ]
     },
     "execution_count": 28,
     "metadata": {},
     "output_type": "execute_result"
    },
    {
     "data": {
      "image/png": "[encoded data removed]",
      "text/plain": [
       "<Figure size 432x288 with 1 Axes>"
      ]
     },
     "metadata": {
      "needs_background": "light"
     },
     "output_type": "display_data"
    }
   ],
   "source": [
    "plt.plot(data_ads[\"Newspaper\"], data_ads[\"Sales\"], \"gv\")\n",
    "plt.title(\"Gasto en Newspaper vs Ventas del Producto\")"
   ]
  },
  {
   "cell_type": "code",
   "execution_count": 29,
   "metadata": {
    "colab": {
     "base_uri": "https://localhost:8080/",
     "height": 175
    },
    "id": "tw6EvZho0xfb",
    "outputId": "d9d1f6fd-1212-401e-def7-7b8c112ad61f"
   },
   "outputs": [
    {
     "data": {
      "text/html": [
       "<div>\n",
       "<style scoped>\n",
       "    .dataframe tbody tr th:only-of-type {\n",
       "        vertical-align: middle;\n",
       "    }\n",
       "\n",
       "    .dataframe tbody tr th {\n",
       "        vertical-align: top;\n",
       "    }\n",
       "\n",
       "    .dataframe thead th {\n",
       "        text-align: right;\n",
       "    }\n",
       "</style>\n",
       "<table border=\"1\" class=\"dataframe\">\n",
       "  <thead>\n",
       "    <tr style=\"text-align: right;\">\n",
       "      <th></th>\n",
       "      <th>TV</th>\n",
       "      <th>Radio</th>\n",
       "      <th>Newspaper</th>\n",
       "      <th>Sales</th>\n",
       "    </tr>\n",
       "  </thead>\n",
       "  <tbody>\n",
       "    <tr>\n",
       "      <th>TV</th>\n",
       "      <td>1.000000</td>\n",
       "      <td>0.054809</td>\n",
       "      <td>0.056648</td>\n",
       "      <td>0.782224</td>\n",
       "    </tr>\n",
       "    <tr>\n",
       "      <th>Radio</th>\n",
       "      <td>0.054809</td>\n",
       "      <td>1.000000</td>\n",
       "      <td>0.354104</td>\n",
       "      <td>0.576223</td>\n",
       "    </tr>\n",
       "    <tr>\n",
       "      <th>Newspaper</th>\n",
       "      <td>0.056648</td>\n",
       "      <td>0.354104</td>\n",
       "      <td>1.000000</td>\n",
       "      <td>0.228299</td>\n",
       "    </tr>\n",
       "    <tr>\n",
       "      <th>Sales</th>\n",
       "      <td>0.782224</td>\n",
       "      <td>0.576223</td>\n",
       "      <td>0.228299</td>\n",
       "      <td>1.000000</td>\n",
       "    </tr>\n",
       "  </tbody>\n",
       "</table>\n",
       "</div>"
      ],
      "text/plain": [
       "                 TV     Radio  Newspaper     Sales\n",
       "TV         1.000000  0.054809   0.056648  0.782224\n",
       "Radio      0.054809  1.000000   0.354104  0.576223\n",
       "Newspaper  0.056648  0.354104   1.000000  0.228299\n",
       "Sales      0.782224  0.576223   0.228299  1.000000"
      ]
     },
     "execution_count": 29,
     "metadata": {},
     "output_type": "execute_result"
    }
   ],
   "source": [
    "corr_ads= data_ads[[\"TV\", \"Radio\", \"Newspaper\", \"Sales\"]].corr()\n",
    "corr_ads"
   ]
  },
  {
   "cell_type": "code",
   "execution_count": 30,
   "metadata": {
    "colab": {
     "base_uri": "https://localhost:8080/",
     "height": 292
    },
    "id": "D_egHvd41jeE",
    "outputId": "ab486c59-0dd5-4c69-a5b2-67c4d97df0b5"
   },
   "outputs": [
    {
     "data": {
      "text/plain": [
       "<matplotlib.image.AxesImage at 0x28d2ed7e580>"
      ]
     },
     "execution_count": 30,
     "metadata": {},
     "output_type": "execute_result"
    },
    {
     "data": {
      "image/png": "[encoded data removed]",
      "text/plain": [
       "<Figure size 288x288 with 1 Axes>"
      ]
     },
     "metadata": {
      "needs_background": "light"
     },
     "output_type": "display_data"
    }
   ],
   "source": [
    "plt.matshow(corr_ads)"
   ]
  },
  {
   "cell_type": "code",
   "execution_count": 32,
   "metadata": {},
   "outputs": [
    {
     "data": {
      "image/png": "[encoded data removed]",
      "text/plain": [
       "<Figure size 432x288 with 2 Axes>"
      ]
     },
     "metadata": {
      "needs_background": "light"
     },
     "output_type": "display_data"
    }
   ],
   "source": [
    "sns.heatmap(corr_ads, annot=True)\n",
    "plt.show()"
   ]
  }
 ],
 "metadata": {
  "colab": {
   "collapsed_sections": [],
   "name": "Correlación_pruebas.ipynb",
   "provenance": []
  },
  "kernelspec": {
   "display_name": "Python 3",
   "language": "python",
   "name": "python3"
  },
  "language_info": {
   "codemirror_mode": {
    "name": "ipython",
    "version": 3
   },
   "file_extension": ".py",
   "mimetype": "text/x-python",
   "name": "python",
   "nbconvert_exporter": "python",
   "pygments_lexer": "ipython3",
   "version": "3.8.10"
  }
 },
 "nbformat": 4,
 "nbformat_minor": 1
}
