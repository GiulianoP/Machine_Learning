{
 "cells": [
  {
   "cell_type": "markdown",
   "id": "9556bf0b",
   "metadata": {},
   "source": [
    "# Clustering con K-Means"
   ]
  },
  {
   "cell_type": "code",
   "execution_count": 1,
   "id": "225ab995",
   "metadata": {},
   "outputs": [],
   "source": [
    "import numpy as np"
   ]
  },
  {
   "cell_type": "code",
   "execution_count": 2,
   "id": "af37ffe4",
   "metadata": {},
   "outputs": [
    {
     "data": {
      "text/plain": [
       "array([[2.95222283e-01, 6.36324918e-01, 3.90552745e-01],\n",
       "       [5.37064035e-01, 3.83419723e-01, 2.47113733e-01],\n",
       "       [8.55804383e-01, 6.75284981e-01, 1.83443627e-01],\n",
       "       [9.05258693e-01, 3.53983687e-01, 1.28025398e-02],\n",
       "       [4.77348933e-01, 5.45577126e-01, 4.65381299e-01],\n",
       "       [5.22561826e-01, 8.18764293e-01, 2.35109546e-01],\n",
       "       [9.42863330e-01, 6.72865281e-02, 5.24023100e-01],\n",
       "       [3.57651277e-01, 6.25076892e-01, 5.36570157e-01],\n",
       "       [3.73206799e-02, 3.64087300e-02, 7.07541001e-01],\n",
       "       [1.05239520e-01, 1.61766983e-01, 4.53452642e-01],\n",
       "       [5.09377944e-02, 5.90382692e-01, 1.07025934e-01],\n",
       "       [5.52575246e-01, 8.50635711e-01, 9.37338171e-01],\n",
       "       [5.14058344e-01, 5.54816851e-01, 3.33404673e-01],\n",
       "       [4.93843459e-01, 2.53303101e-02, 5.84814439e-02],\n",
       "       [5.95993948e-01, 9.01134844e-01, 7.07234452e-01],\n",
       "       [8.63175180e-01, 1.60701086e-01, 9.18424102e-02],\n",
       "       [5.37173093e-01, 1.26303909e-01, 8.75921103e-01],\n",
       "       [3.65655366e-01, 8.03226823e-01, 7.09998239e-01],\n",
       "       [2.45263125e-01, 3.48456799e-01, 7.99398610e-01],\n",
       "       [2.56974381e-05, 8.82588322e-01, 2.40014249e-01],\n",
       "       [2.65175428e-01, 2.70255056e-01, 7.35134460e-01],\n",
       "       [8.49237557e-01, 2.83160499e-01, 8.62802575e-01],\n",
       "       [3.72638297e-01, 1.61197313e-01, 3.42031625e-01],\n",
       "       [1.24214666e-01, 6.03878565e-01, 2.63693185e-01],\n",
       "       [8.24811345e-01, 3.96247634e-01, 2.59518893e-01],\n",
       "       [8.76458950e-01, 7.16052241e-01, 9.45242929e-01],\n",
       "       [1.24783769e-01, 4.24493300e-01, 4.69665049e-01],\n",
       "       [5.06114362e-01, 5.54309422e-02, 6.84262240e-02],\n",
       "       [1.45410576e-01, 7.37848422e-01, 8.25353876e-01],\n",
       "       [7.86242542e-02, 5.15118064e-01, 1.50073122e-01]])"
      ]
     },
     "execution_count": 2,
     "metadata": {},
     "output_type": "execute_result"
    }
   ],
   "source": [
    "data= np.random.random(90).reshape(30, 3)\n",
    "data"
   ]
  },
  {
   "cell_type": "code",
   "execution_count": 3,
   "id": "0314b6ab",
   "metadata": {},
   "outputs": [
    {
     "data": {
      "text/plain": [
       "array([[0.86317518, 0.16070109, 0.09184241],\n",
       "       [0.87645895, 0.71605224, 0.94524293]])"
      ]
     },
     "execution_count": 3,
     "metadata": {},
     "output_type": "execute_result"
    }
   ],
   "source": [
    "c1= np.random.choice(range(len(data)))\n",
    "c2= np.random.choice(range(len(data)))\n",
    "clust_centers= np.vstack([data[c1], data[c2]])\n",
    "clust_centers"
   ]
  },
  {
   "cell_type": "code",
   "execution_count": 4,
   "id": "39360865",
   "metadata": {},
   "outputs": [],
   "source": [
    "from scipy.cluster.vq import vq"
   ]
  },
  {
   "cell_type": "code",
   "execution_count": 5,
   "id": "eda65b28",
   "metadata": {},
   "outputs": [
    {
     "data": {
      "text/plain": [
       "(array([0, 0, 0, 0, 1, 0, 0, 1, 0, 0, 0, 1, 0, 0, 1, 0, 1, 1, 1, 0, 1, 1,\n",
       "        0, 0, 0, 1, 0, 0, 1, 0]),\n",
       " array([0.79875928, 0.42433625, 0.52272526, 0.21301757, 0.64700677,\n",
       "        0.75471194, 0.44928458, 0.66667185, 1.03757843, 0.83977947,\n",
       "        0.91901381, 0.35082168, 0.57927725, 0.39477097, 0.41178177,\n",
       "        0.        , 0.68390314, 0.56908679, 0.74485243, 1.1349463 ,\n",
       "        0.78520586, 0.44151181, 0.55065536, 0.87863622, 0.29166653,\n",
       "        0.        , 0.87037817, 0.37299135, 0.74113439, 0.86285709]))"
      ]
     },
     "execution_count": 5,
     "metadata": {},
     "output_type": "execute_result"
    }
   ],
   "source": [
    "vq(data, clust_centers)"
   ]
  },
  {
   "cell_type": "code",
   "execution_count": 6,
   "id": "6a156bbb",
   "metadata": {},
   "outputs": [],
   "source": [
    "from scipy.cluster.vq import kmeans"
   ]
  },
  {
   "cell_type": "code",
   "execution_count": 8,
   "id": "d1b2592b",
   "metadata": {},
   "outputs": [
    {
     "data": {
      "text/plain": [
       "(array([[0.43159554, 0.4024501 , 0.28017985],\n",
       "        [0.47905946, 0.56621512, 0.79349946]]),\n",
       " 0.4019145899980771)"
      ]
     },
     "execution_count": 8,
     "metadata": {},
     "output_type": "execute_result"
    }
   ],
   "source": [
    "kmeans(data, clust_centers)\n",
    "#Los centros de los clusters. El último valor es la suma de los cuadrados de los errores normalizada."
   ]
  },
  {
   "cell_type": "code",
   "execution_count": 9,
   "id": "fcbf9510",
   "metadata": {},
   "outputs": [
    {
     "data": {
      "text/plain": [
       "(array([[0.33909202, 0.54439386, 0.55956705],\n",
       "        [0.70017479, 0.25320913, 0.19863151]]),\n",
       " 0.38539887812041473)"
      ]
     },
     "execution_count": 9,
     "metadata": {},
     "output_type": "execute_result"
    }
   ],
   "source": [
    "#Si en lugar de darle los centroides le damos el número de clusters= 2 obtenemos un resultado similar\n",
    "kmeans(data, 2)"
   ]
  },
  {
   "cell_type": "code",
   "execution_count": null,
   "id": "50f84438",
   "metadata": {},
   "outputs": [],
   "source": []
  }
 ],
 "metadata": {
  "kernelspec": {
   "display_name": "Python 3",
   "language": "python",
   "name": "python3"
  },
  "language_info": {
   "codemirror_mode": {
    "name": "ipython",
    "version": 3
   },
   "file_extension": ".py",
   "mimetype": "text/x-python",
   "name": "python",
   "nbconvert_exporter": "python",
   "pygments_lexer": "ipython3",
   "version": "3.8.10"
  }
 },
 "nbformat": 4,
 "nbformat_minor": 5
}
