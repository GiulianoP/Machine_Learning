{
 "cells": [
  {
   "cell_type": "markdown",
   "id": "f8e95c4d",
   "metadata": {},
   "source": [
    "# Las matemáticas tras la regresión logística\n",
    "\n",
    "**Las tablas de contingencia**"
   ]
  },
  {
   "cell_type": "code",
   "execution_count": 10,
   "id": "d82bfaea",
   "metadata": {},
   "outputs": [],
   "source": [
    "import pandas as pd\n",
    "from IPython.display import display, Math, Latex"
   ]
  },
  {
   "cell_type": "code",
   "execution_count": 3,
   "id": "5c032eb8",
   "metadata": {},
   "outputs": [
    {
     "data": {
      "text/html": [
       "<div>\n",
       "<style scoped>\n",
       "    .dataframe tbody tr th:only-of-type {\n",
       "        vertical-align: middle;\n",
       "    }\n",
       "\n",
       "    .dataframe tbody tr th {\n",
       "        vertical-align: top;\n",
       "    }\n",
       "\n",
       "    .dataframe thead th {\n",
       "        text-align: right;\n",
       "    }\n",
       "</style>\n",
       "<table border=\"1\" class=\"dataframe\">\n",
       "  <thead>\n",
       "    <tr style=\"text-align: right;\">\n",
       "      <th></th>\n",
       "      <th>Gender</th>\n",
       "      <th>Purchase</th>\n",
       "    </tr>\n",
       "  </thead>\n",
       "  <tbody>\n",
       "    <tr>\n",
       "      <th>0</th>\n",
       "      <td>Female</td>\n",
       "      <td>Yes</td>\n",
       "    </tr>\n",
       "    <tr>\n",
       "      <th>1</th>\n",
       "      <td>Female</td>\n",
       "      <td>Yes</td>\n",
       "    </tr>\n",
       "    <tr>\n",
       "      <th>2</th>\n",
       "      <td>Female</td>\n",
       "      <td>No</td>\n",
       "    </tr>\n",
       "    <tr>\n",
       "      <th>3</th>\n",
       "      <td>Male</td>\n",
       "      <td>No</td>\n",
       "    </tr>\n",
       "    <tr>\n",
       "      <th>4</th>\n",
       "      <td>Male</td>\n",
       "      <td>Yes</td>\n",
       "    </tr>\n",
       "  </tbody>\n",
       "</table>\n",
       "</div>"
      ],
      "text/plain": [
       "   Gender Purchase\n",
       "0  Female      Yes\n",
       "1  Female      Yes\n",
       "2  Female       No\n",
       "3    Male       No\n",
       "4    Male      Yes"
      ]
     },
     "execution_count": 3,
     "metadata": {},
     "output_type": "execute_result"
    }
   ],
   "source": [
    "df= pd.read_csv(\"../../Datasets/gender-purchase/Gender Purchase.csv\")\n",
    "df.head()"
   ]
  },
  {
   "cell_type": "code",
   "execution_count": 4,
   "id": "d3d97833",
   "metadata": {},
   "outputs": [
    {
     "data": {
      "text/plain": [
       "(511, 2)"
      ]
     },
     "execution_count": 4,
     "metadata": {},
     "output_type": "execute_result"
    }
   ],
   "source": [
    "df.shape"
   ]
  },
  {
   "cell_type": "markdown",
   "id": "76bb16c5",
   "metadata": {},
   "source": [
    "### La tabla de contingencia"
   ]
  },
  {
   "cell_type": "code",
   "execution_count": 5,
   "id": "c276fe87",
   "metadata": {},
   "outputs": [
    {
     "data": {
      "text/html": [
       "<div>\n",
       "<style scoped>\n",
       "    .dataframe tbody tr th:only-of-type {\n",
       "        vertical-align: middle;\n",
       "    }\n",
       "\n",
       "    .dataframe tbody tr th {\n",
       "        vertical-align: top;\n",
       "    }\n",
       "\n",
       "    .dataframe thead th {\n",
       "        text-align: right;\n",
       "    }\n",
       "</style>\n",
       "<table border=\"1\" class=\"dataframe\">\n",
       "  <thead>\n",
       "    <tr style=\"text-align: right;\">\n",
       "      <th>Purchase</th>\n",
       "      <th>No</th>\n",
       "      <th>Yes</th>\n",
       "    </tr>\n",
       "    <tr>\n",
       "      <th>Gender</th>\n",
       "      <th></th>\n",
       "      <th></th>\n",
       "    </tr>\n",
       "  </thead>\n",
       "  <tbody>\n",
       "    <tr>\n",
       "      <th>Female</th>\n",
       "      <td>106</td>\n",
       "      <td>159</td>\n",
       "    </tr>\n",
       "    <tr>\n",
       "      <th>Male</th>\n",
       "      <td>125</td>\n",
       "      <td>121</td>\n",
       "    </tr>\n",
       "  </tbody>\n",
       "</table>\n",
       "</div>"
      ],
      "text/plain": [
       "Purchase   No  Yes\n",
       "Gender            \n",
       "Female    106  159\n",
       "Male      125  121"
      ]
     },
     "execution_count": 5,
     "metadata": {},
     "output_type": "execute_result"
    }
   ],
   "source": [
    "contingency_table= pd.crosstab(df[\"Gender\"], df[\"Purchase\"])\n",
    "contingency_table"
   ]
  },
  {
   "cell_type": "code",
   "execution_count": 6,
   "id": "fbd22600",
   "metadata": {},
   "outputs": [
    {
     "data": {
      "text/plain": [
       "Gender\n",
       "Female    265\n",
       "Male      246\n",
       "dtype: int64"
      ]
     },
     "execution_count": 6,
     "metadata": {},
     "output_type": "execute_result"
    }
   ],
   "source": [
    "contingency_table.sum(axis= 1)"
   ]
  },
  {
   "cell_type": "code",
   "execution_count": 7,
   "id": "af258dc4",
   "metadata": {},
   "outputs": [
    {
     "data": {
      "text/plain": [
       "Purchase\n",
       "No     231\n",
       "Yes    280\n",
       "dtype: int64"
      ]
     },
     "execution_count": 7,
     "metadata": {},
     "output_type": "execute_result"
    }
   ],
   "source": [
    "contingency_table.sum(axis= 0)"
   ]
  },
  {
   "cell_type": "code",
   "execution_count": 9,
   "id": "94e448b4",
   "metadata": {},
   "outputs": [
    {
     "data": {
      "text/html": [
       "<div>\n",
       "<style scoped>\n",
       "    .dataframe tbody tr th:only-of-type {\n",
       "        vertical-align: middle;\n",
       "    }\n",
       "\n",
       "    .dataframe tbody tr th {\n",
       "        vertical-align: top;\n",
       "    }\n",
       "\n",
       "    .dataframe thead th {\n",
       "        text-align: right;\n",
       "    }\n",
       "</style>\n",
       "<table border=\"1\" class=\"dataframe\">\n",
       "  <thead>\n",
       "    <tr style=\"text-align: right;\">\n",
       "      <th>Purchase</th>\n",
       "      <th>No</th>\n",
       "      <th>Yes</th>\n",
       "    </tr>\n",
       "    <tr>\n",
       "      <th>Gender</th>\n",
       "      <th></th>\n",
       "      <th></th>\n",
       "    </tr>\n",
       "  </thead>\n",
       "  <tbody>\n",
       "    <tr>\n",
       "      <th>Female</th>\n",
       "      <td>0.40000</td>\n",
       "      <td>0.60000</td>\n",
       "    </tr>\n",
       "    <tr>\n",
       "      <th>Male</th>\n",
       "      <td>0.50813</td>\n",
       "      <td>0.49187</td>\n",
       "    </tr>\n",
       "  </tbody>\n",
       "</table>\n",
       "</div>"
      ],
      "text/plain": [
       "Purchase       No      Yes\n",
       "Gender                    \n",
       "Female    0.40000  0.60000\n",
       "Male      0.50813  0.49187"
      ]
     },
     "execution_count": 9,
     "metadata": {},
     "output_type": "execute_result"
    }
   ],
   "source": [
    "contingency_table.astype(\"float\").div(contingency_table.sum(axis= 1), axis= 0)    #Las probabilidades"
   ]
  },
  {
   "cell_type": "markdown",
   "id": "d9bbf9a8",
   "metadata": {},
   "source": [
    "## La probabilidad condicional"
   ]
  },
  {
   "cell_type": "markdown",
   "id": "66e3dbf1",
   "metadata": {},
   "source": [
    "* ¿Cuál es la probabilidad de que un cliente compre un producto sabiendo que es un hombre? -> Solo se sabe que es un hombre.\n",
    "$$\n",
    "P(Purchase|Male) = \\frac{Número\\ total\\ de\\ compras\\ hechas\\ por\\ hombres}{Número\\ total\\ de\\ hombres\\ del\\ grupo}= \\frac{Purchase\\cap Male}{Male}\n",
    "$$\n",
    "\n",
    "* ¿Cuál es la probabilidad de que, sabiendo que un compra un producto sea una mujer? -> Solo se sabe que compra el producto.\n",
    "$$\n",
    "P(Female|Purchase) = \\frac{Número\\ total\\ de\\ compras\\ hechas\\ por\\ mujeres}{Número\\ total\\ de\\ compras} = \\frac{Female\\cap Purchase}{Purchase}\n",
    "$$"
   ]
  },
  {
   "cell_type": "code",
   "execution_count": 16,
   "id": "60f8b19a",
   "metadata": {},
   "outputs": [
    {
     "data": {
      "text/latex": [
       "$\\displaystyle P(Purchase|Male) = \\frac{Número\\ total\\ de\\ compras\\ hechas\\ por\\ hombres}{Número\\ total\\ de\\ hombres\\ del\\ grupo} = \\frac{Purchase\\cap Male}{Male}$"
      ],
      "text/plain": [
       "<IPython.core.display.Math object>"
      ]
     },
     "metadata": {},
     "output_type": "display_data"
    },
    {
     "data": {
      "text/plain": [
       "0.491869918699187"
      ]
     },
     "execution_count": 16,
     "metadata": {},
     "output_type": "execute_result"
    }
   ],
   "source": [
    "display(Math(r'P(Purchase|Male) = \\frac{Número\\ total\\ de\\ compras\\ hechas\\ por\\ hombres}{Número\\ total\\ de\\ hombres\\ del\\ grupo} = \\frac{Purchase\\cap Male}{Male}'))\n",
    "121/246"
   ]
  },
  {
   "cell_type": "code",
   "execution_count": 17,
   "id": "70584a22",
   "metadata": {},
   "outputs": [
    {
     "data": {
      "text/latex": [
       "$\\displaystyle P(No\\ Purchase|Male) = 1-P(Purchase|Male)$"
      ],
      "text/plain": [
       "<IPython.core.display.Math object>"
      ]
     },
     "metadata": {},
     "output_type": "display_data"
    },
    {
     "data": {
      "text/plain": [
       "0.508130081300813"
      ]
     },
     "execution_count": 17,
     "metadata": {},
     "output_type": "execute_result"
    }
   ],
   "source": [
    "display(Math(r'P(No\\ Purchase|Male) = 1-P(Purchase|Male)'))\n",
    "125/246"
   ]
  },
  {
   "cell_type": "code",
   "execution_count": 18,
   "id": "e0a96636",
   "metadata": {},
   "outputs": [
    {
     "data": {
      "text/latex": [
       "$\\displaystyle P(Female|Purchase) = \\frac{Número\\ total\\ de\\ compras\\ hechas\\ por\\ mujeres}{Número\\ total\\ de\\ compras} = \\frac{Female\\cap Purchase}{Purchase}$"
      ],
      "text/plain": [
       "<IPython.core.display.Math object>"
      ]
     },
     "metadata": {},
     "output_type": "display_data"
    },
    {
     "data": {
      "text/plain": [
       "0.5678571428571428"
      ]
     },
     "execution_count": 18,
     "metadata": {},
     "output_type": "execute_result"
    }
   ],
   "source": [
    "display(Math(r'P(Female|Purchase) = \\frac{Número\\ total\\ de\\ compras\\ hechas\\ por\\ mujeres}{Número\\ total\\ de\\ compras} = \\frac{Female\\cap Purchase}{Purchase}'))\n",
    "159/280"
   ]
  },
  {
   "cell_type": "code",
   "execution_count": 19,
   "id": "f6c125bd",
   "metadata": {},
   "outputs": [
    {
     "data": {
      "text/latex": [
       "$\\displaystyle P(Male|Purchase)$"
      ],
      "text/plain": [
       "<IPython.core.display.Math object>"
      ]
     },
     "metadata": {},
     "output_type": "display_data"
    },
    {
     "data": {
      "text/plain": [
       "0.43214285714285716"
      ]
     },
     "execution_count": 19,
     "metadata": {},
     "output_type": "execute_result"
    }
   ],
   "source": [
    "display(Math(r'P(Male|Purchase)'))\n",
    "121/280"
   ]
  },
  {
   "cell_type": "markdown",
   "id": "d9891104",
   "metadata": {},
   "source": [
    "Para este caso lo que más nos interesa es saber cuales son las probabilidades de que un cliente compre o no compre, sabiendo que es hombre o sabiendo que es mujer."
   ]
  },
  {
   "cell_type": "code",
   "execution_count": 20,
   "id": "47e89948",
   "metadata": {},
   "outputs": [
    {
     "data": {
      "text/latex": [
       "$\\displaystyle P(Purchase|Male)$"
      ],
      "text/plain": [
       "<IPython.core.display.Math object>"
      ]
     },
     "metadata": {},
     "output_type": "display_data"
    },
    {
     "name": "stdout",
     "output_type": "stream",
     "text": [
      "121/246 = 0.491869918699187\n"
     ]
    },
    {
     "data": {
      "text/latex": [
       "$\\displaystyle P(No\\ Purchase|Male)$"
      ],
      "text/plain": [
       "<IPython.core.display.Math object>"
      ]
     },
     "metadata": {},
     "output_type": "display_data"
    },
    {
     "name": "stdout",
     "output_type": "stream",
     "text": [
      "125/246 = 0.508130081300813\n"
     ]
    },
    {
     "data": {
      "text/latex": [
       "$\\displaystyle P(Purchase|Female)$"
      ],
      "text/plain": [
       "<IPython.core.display.Math object>"
      ]
     },
     "metadata": {},
     "output_type": "display_data"
    },
    {
     "name": "stdout",
     "output_type": "stream",
     "text": [
      "159/265 = 0.6\n"
     ]
    },
    {
     "data": {
      "text/latex": [
       "$\\displaystyle P(No\\ Purchase|Female)$"
      ],
      "text/plain": [
       "<IPython.core.display.Math object>"
      ]
     },
     "metadata": {},
     "output_type": "display_data"
    },
    {
     "name": "stdout",
     "output_type": "stream",
     "text": [
      "106/265 = 0.4\n"
     ]
    }
   ],
   "source": [
    "display(Math(r'P(Purchase|Male)'))\n",
    "print(\"121/246 = \"+ str(121/246))\n",
    "display(Math(r'P(No\\ Purchase|Male)'))\n",
    "print(\"125/246 = \"+ str(125/246))\n",
    "display(Math(r'P(Purchase|Female)'))\n",
    "print(\"159/265 = \"+ str(159/265))\n",
    "display(Math(r'P(No\\ Purchase|Female)'))\n",
    "print(\"106/265 = \"+ str(106/265))"
   ]
  },
  {
   "cell_type": "code",
   "execution_count": null,
   "id": "6cdd9d76",
   "metadata": {},
   "outputs": [],
   "source": []
  }
 ],
 "metadata": {
  "kernelspec": {
   "display_name": "Python 3",
   "language": "python",
   "name": "python3"
  },
  "language_info": {
   "codemirror_mode": {
    "name": "ipython",
    "version": 3
   },
   "file_extension": ".py",
   "mimetype": "text/x-python",
   "name": "python",
   "nbconvert_exporter": "python",
   "pygments_lexer": "ipython3",
   "version": "3.8.10"
  }
 },
 "nbformat": 4,
 "nbformat_minor": 5
}
