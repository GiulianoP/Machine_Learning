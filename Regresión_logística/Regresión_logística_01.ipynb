{
 "cells": [
  {
   "cell_type": "markdown",
   "id": "0828b538",
   "metadata": {},
   "source": [
    "# Las matemáticas tras la regresión logística\n",
    "\n",
    "**Las tablas de contingencia**"
   ]
  },
  {
   "cell_type": "code",
   "execution_count": 10,
   "id": "dce1c623",
   "metadata": {},
   "outputs": [],
   "source": [
    "import pandas as pd\n",
    "from IPython.display import display, Math, Latex"
   ]
  },
  {
   "cell_type": "code",
   "execution_count": 3,
   "id": "8b9121c9",
   "metadata": {},
   "outputs": [
    {
     "data": {
      "text/html": [
       "<div>\n",
       "<style scoped>\n",
       "    .dataframe tbody tr th:only-of-type {\n",
       "        vertical-align: middle;\n",
       "    }\n",
       "\n",
       "    .dataframe tbody tr th {\n",
       "        vertical-align: top;\n",
       "    }\n",
       "\n",
       "    .dataframe thead th {\n",
       "        text-align: right;\n",
       "    }\n",
       "</style>\n",
       "<table border=\"1\" class=\"dataframe\">\n",
       "  <thead>\n",
       "    <tr style=\"text-align: right;\">\n",
       "      <th></th>\n",
       "      <th>Gender</th>\n",
       "      <th>Purchase</th>\n",
       "    </tr>\n",
       "  </thead>\n",
       "  <tbody>\n",
       "    <tr>\n",
       "      <th>0</th>\n",
       "      <td>Female</td>\n",
       "      <td>Yes</td>\n",
       "    </tr>\n",
       "    <tr>\n",
       "      <th>1</th>\n",
       "      <td>Female</td>\n",
       "      <td>Yes</td>\n",
       "    </tr>\n",
       "    <tr>\n",
       "      <th>2</th>\n",
       "      <td>Female</td>\n",
       "      <td>No</td>\n",
       "    </tr>\n",
       "    <tr>\n",
       "      <th>3</th>\n",
       "      <td>Male</td>\n",
       "      <td>No</td>\n",
       "    </tr>\n",
       "    <tr>\n",
       "      <th>4</th>\n",
       "      <td>Male</td>\n",
       "      <td>Yes</td>\n",
       "    </tr>\n",
       "  </tbody>\n",
       "</table>\n",
       "</div>"
      ],
      "text/plain": [
       "   Gender Purchase\n",
       "0  Female      Yes\n",
       "1  Female      Yes\n",
       "2  Female       No\n",
       "3    Male       No\n",
       "4    Male      Yes"
      ]
     },
     "execution_count": 3,
     "metadata": {},
     "output_type": "execute_result"
    }
   ],
   "source": [
    "df= pd.read_csv(\"../../Datasets/gender-purchase/Gender Purchase.csv\")\n",
    "df.head()"
   ]
  },
  {
   "cell_type": "code",
   "execution_count": 4,
   "id": "c6bbc0e0",
   "metadata": {},
   "outputs": [
    {
     "data": {
      "text/plain": [
       "(511, 2)"
      ]
     },
     "execution_count": 4,
     "metadata": {},
     "output_type": "execute_result"
    }
   ],
   "source": [
    "df.shape"
   ]
  },
  {
   "cell_type": "markdown",
   "id": "798d9daa",
   "metadata": {},
   "source": [
    "### La tabla de contingencia"
   ]
  },
  {
   "cell_type": "code",
   "execution_count": 5,
   "id": "6458c30b",
   "metadata": {},
   "outputs": [
    {
     "data": {
      "text/html": [
       "<div>\n",
       "<style scoped>\n",
       "    .dataframe tbody tr th:only-of-type {\n",
       "        vertical-align: middle;\n",
       "    }\n",
       "\n",
       "    .dataframe tbody tr th {\n",
       "        vertical-align: top;\n",
       "    }\n",
       "\n",
       "    .dataframe thead th {\n",
       "        text-align: right;\n",
       "    }\n",
       "</style>\n",
       "<table border=\"1\" class=\"dataframe\">\n",
       "  <thead>\n",
       "    <tr style=\"text-align: right;\">\n",
       "      <th>Purchase</th>\n",
       "      <th>No</th>\n",
       "      <th>Yes</th>\n",
       "    </tr>\n",
       "    <tr>\n",
       "      <th>Gender</th>\n",
       "      <th></th>\n",
       "      <th></th>\n",
       "    </tr>\n",
       "  </thead>\n",
       "  <tbody>\n",
       "    <tr>\n",
       "      <th>Female</th>\n",
       "      <td>106</td>\n",
       "      <td>159</td>\n",
       "    </tr>\n",
       "    <tr>\n",
       "      <th>Male</th>\n",
       "      <td>125</td>\n",
       "      <td>121</td>\n",
       "    </tr>\n",
       "  </tbody>\n",
       "</table>\n",
       "</div>"
      ],
      "text/plain": [
       "Purchase   No  Yes\n",
       "Gender            \n",
       "Female    106  159\n",
       "Male      125  121"
      ]
     },
     "execution_count": 5,
     "metadata": {},
     "output_type": "execute_result"
    }
   ],
   "source": [
    "contingency_table= pd.crosstab(df[\"Gender\"], df[\"Purchase\"])\n",
    "contingency_table"
   ]
  },
  {
   "cell_type": "code",
   "execution_count": 6,
   "id": "de2c47a6",
   "metadata": {},
   "outputs": [
    {
     "data": {
      "text/plain": [
       "Gender\n",
       "Female    265\n",
       "Male      246\n",
       "dtype: int64"
      ]
     },
     "execution_count": 6,
     "metadata": {},
     "output_type": "execute_result"
    }
   ],
   "source": [
    "contingency_table.sum(axis= 1)"
   ]
  },
  {
   "cell_type": "code",
   "execution_count": 7,
   "id": "8ae02462",
   "metadata": {},
   "outputs": [
    {
     "data": {
      "text/plain": [
       "Purchase\n",
       "No     231\n",
       "Yes    280\n",
       "dtype: int64"
      ]
     },
     "execution_count": 7,
     "metadata": {},
     "output_type": "execute_result"
    }
   ],
   "source": [
    "contingency_table.sum(axis= 0)"
   ]
  },
  {
   "cell_type": "code",
   "execution_count": 9,
   "id": "e8467c6a",
   "metadata": {},
   "outputs": [
    {
     "data": {
      "text/html": [
       "<div>\n",
       "<style scoped>\n",
       "    .dataframe tbody tr th:only-of-type {\n",
       "        vertical-align: middle;\n",
       "    }\n",
       "\n",
       "    .dataframe tbody tr th {\n",
       "        vertical-align: top;\n",
       "    }\n",
       "\n",
       "    .dataframe thead th {\n",
       "        text-align: right;\n",
       "    }\n",
       "</style>\n",
       "<table border=\"1\" class=\"dataframe\">\n",
       "  <thead>\n",
       "    <tr style=\"text-align: right;\">\n",
       "      <th>Purchase</th>\n",
       "      <th>No</th>\n",
       "      <th>Yes</th>\n",
       "    </tr>\n",
       "    <tr>\n",
       "      <th>Gender</th>\n",
       "      <th></th>\n",
       "      <th></th>\n",
       "    </tr>\n",
       "  </thead>\n",
       "  <tbody>\n",
       "    <tr>\n",
       "      <th>Female</th>\n",
       "      <td>0.40000</td>\n",
       "      <td>0.60000</td>\n",
       "    </tr>\n",
       "    <tr>\n",
       "      <th>Male</th>\n",
       "      <td>0.50813</td>\n",
       "      <td>0.49187</td>\n",
       "    </tr>\n",
       "  </tbody>\n",
       "</table>\n",
       "</div>"
      ],
      "text/plain": [
       "Purchase       No      Yes\n",
       "Gender                    \n",
       "Female    0.40000  0.60000\n",
       "Male      0.50813  0.49187"
      ]
     },
     "execution_count": 9,
     "metadata": {},
     "output_type": "execute_result"
    }
   ],
   "source": [
    "contingency_table.astype(\"float\").div(contingency_table.sum(axis= 1), axis= 0)    #Las probabilidades"
   ]
  },
  {
   "cell_type": "markdown",
   "id": "d03d0558",
   "metadata": {},
   "source": [
    "## La probabilidad condicional"
   ]
  },
  {
   "cell_type": "markdown",
   "id": "6205d737",
   "metadata": {},
   "source": [
    "* ¿Cuál es la probabilidad de que un cliente compre un producto sabiendo que es un hombre? -> Solo se sabe que es un hombre.\n",
    "$$\n",
    "P(Purchase|Male) = \\frac{Número\\ total\\ de\\ compras\\ hechas\\ por\\ hombres}{Número\\ total\\ de\\ hombres\\ del\\ grupo}= \\frac{Purchase\\cap Male}{Male}\n",
    "$$\n",
    "\n",
    "* ¿Cuál es la probabilidad de que, sabiendo que un compra un producto sea una mujer? -> Solo se sabe que compra el producto.\n",
    "$$\n",
    "P(Female|Purchase) = \\frac{Número\\ total\\ de\\ compras\\ hechas\\ por\\ mujeres}{Número\\ total\\ de\\ compras} = \\frac{Female\\cap Purchase}{Purchase}\n",
    "$$"
   ]
  },
  {
   "cell_type": "code",
   "execution_count": 16,
   "id": "46d15bdc",
   "metadata": {},
   "outputs": [
    {
     "data": {
      "text/latex": [
       "$\\displaystyle P(Purchase|Male) = \\frac{Número\\ total\\ de\\ compras\\ hechas\\ por\\ hombres}{Número\\ total\\ de\\ hombres\\ del\\ grupo} = \\frac{Purchase\\cap Male}{Male}$"
      ],
      "text/plain": [
       "<IPython.core.display.Math object>"
      ]
     },
     "metadata": {},
     "output_type": "display_data"
    },
    {
     "data": {
      "text/plain": [
       "0.491869918699187"
      ]
     },
     "execution_count": 16,
     "metadata": {},
     "output_type": "execute_result"
    }
   ],
   "source": [
    "display(Math(r'P(Purchase|Male) = \\frac{Número\\ total\\ de\\ compras\\ hechas\\ por\\ hombres}{Número\\ total\\ de\\ hombres\\ del\\ grupo} = \\frac{Purchase\\cap Male}{Male}'))\n",
    "121/246"
   ]
  },
  {
   "cell_type": "code",
   "execution_count": 17,
   "id": "9a7101d3",
   "metadata": {},
   "outputs": [
    {
     "data": {
      "text/latex": [
       "$\\displaystyle P(No\\ Purchase|Male) = 1-P(Purchase|Male)$"
      ],
      "text/plain": [
       "<IPython.core.display.Math object>"
      ]
     },
     "metadata": {},
     "output_type": "display_data"
    },
    {
     "data": {
      "text/plain": [
       "0.508130081300813"
      ]
     },
     "execution_count": 17,
     "metadata": {},
     "output_type": "execute_result"
    }
   ],
   "source": [
    "display(Math(r'P(No\\ Purchase|Male) = 1-P(Purchase|Male)'))\n",
    "125/246"
   ]
  },
  {
   "cell_type": "code",
   "execution_count": 18,
   "id": "7bb11fc0",
   "metadata": {},
   "outputs": [
    {
     "data": {
      "text/latex": [
       "$\\displaystyle P(Female|Purchase) = \\frac{Número\\ total\\ de\\ compras\\ hechas\\ por\\ mujeres}{Número\\ total\\ de\\ compras} = \\frac{Female\\cap Purchase}{Purchase}$"
      ],
      "text/plain": [
       "<IPython.core.display.Math object>"
      ]
     },
     "metadata": {},
     "output_type": "display_data"
    },
    {
     "data": {
      "text/plain": [
       "0.5678571428571428"
      ]
     },
     "execution_count": 18,
     "metadata": {},
     "output_type": "execute_result"
    }
   ],
   "source": [
    "display(Math(r'P(Female|Purchase) = \\frac{Número\\ total\\ de\\ compras\\ hechas\\ por\\ mujeres}{Número\\ total\\ de\\ compras} = \\frac{Female\\cap Purchase}{Purchase}'))\n",
    "159/280"
   ]
  },
  {
   "cell_type": "code",
   "execution_count": 19,
   "id": "2e9de1cf",
   "metadata": {},
   "outputs": [
    {
     "data": {
      "text/latex": [
       "$\\displaystyle P(Male|Purchase)$"
      ],
      "text/plain": [
       "<IPython.core.display.Math object>"
      ]
     },
     "metadata": {},
     "output_type": "display_data"
    },
    {
     "data": {
      "text/plain": [
       "0.43214285714285716"
      ]
     },
     "execution_count": 19,
     "metadata": {},
     "output_type": "execute_result"
    }
   ],
   "source": [
    "display(Math(r'P(Male|Purchase)'))\n",
    "121/280"
   ]
  },
  {
   "cell_type": "markdown",
   "id": "14a982c6",
   "metadata": {},
   "source": [
    "Para este caso lo que más nos interesa es saber cuales son las probabilidades de que un cliente compre o no compre, sabiendo que es hombre o sabiendo que es mujer."
   ]
  },
  {
   "cell_type": "code",
   "execution_count": 20,
   "id": "dc3cbf8c",
   "metadata": {},
   "outputs": [
    {
     "data": {
      "text/latex": [
       "$\\displaystyle P(Purchase|Male)$"
      ],
      "text/plain": [
       "<IPython.core.display.Math object>"
      ]
     },
     "metadata": {},
     "output_type": "display_data"
    },
    {
     "name": "stdout",
     "output_type": "stream",
     "text": [
      "121/246 = 0.491869918699187\n"
     ]
    },
    {
     "data": {
      "text/latex": [
       "$\\displaystyle P(No\\ Purchase|Male)$"
      ],
      "text/plain": [
       "<IPython.core.display.Math object>"
      ]
     },
     "metadata": {},
     "output_type": "display_data"
    },
    {
     "name": "stdout",
     "output_type": "stream",
     "text": [
      "125/246 = 0.508130081300813\n"
     ]
    },
    {
     "data": {
      "text/latex": [
       "$\\displaystyle P(Purchase|Female)$"
      ],
      "text/plain": [
       "<IPython.core.display.Math object>"
      ]
     },
     "metadata": {},
     "output_type": "display_data"
    },
    {
     "name": "stdout",
     "output_type": "stream",
     "text": [
      "159/265 = 0.6\n"
     ]
    },
    {
     "data": {
      "text/latex": [
       "$\\displaystyle P(No\\ Purchase|Female)$"
      ],
      "text/plain": [
       "<IPython.core.display.Math object>"
      ]
     },
     "metadata": {},
     "output_type": "display_data"
    },
    {
     "name": "stdout",
     "output_type": "stream",
     "text": [
      "106/265 = 0.4\n"
     ]
    }
   ],
   "source": [
    "display(Math(r'P(Purchase|Male)'))\n",
    "print(\"121/246 = \"+ str(121/246))\n",
    "display(Math(r'P(No\\ Purchase|Male)'))\n",
    "print(\"125/246 = \"+ str(125/246))\n",
    "display(Math(r'P(Purchase|Female)'))\n",
    "print(\"159/265 = \"+ str(159/265))\n",
    "display(Math(r'P(No\\ Purchase|Female)'))\n",
    "print(\"106/265 = \"+ str(106/265))"
   ]
  },
  {
   "cell_type": "markdown",
   "id": "78d57f62",
   "metadata": {},
   "source": [
    "## Ratio/cociente de probabilidades\n",
    "\n",
    "Cociente entre los casos de éxito sobre los de fracaso en el suceso estudiado y para cada grupo."
   ]
  },
  {
   "cell_type": "code",
   "execution_count": 28,
   "id": "a41a197f",
   "metadata": {},
   "outputs": [
    {
     "data": {
      "text/latex": [
       "$\\displaystyle P_m = \\ probabilidad\\ de\\ compra\\ sabiendo\\ que\\ es\\ un\\ hombre.$"
      ],
      "text/plain": [
       "<IPython.core.display.Math object>"
      ]
     },
     "metadata": {},
     "output_type": "display_data"
    },
    {
     "data": {
      "text/latex": [
       "$\\displaystyle P_f = \\ probabilidad\\ de\\ compra\\ sabiendo\\ que\\ es\\ una\\ mujer.$"
      ],
      "text/plain": [
       "<IPython.core.display.Math object>"
      ]
     },
     "metadata": {},
     "output_type": "display_data"
    },
    {
     "data": {
      "text/latex": [
       "$\\displaystyle odds\\in[0,+\\infty]$"
      ],
      "text/plain": [
       "<IPython.core.display.Math object>"
      ]
     },
     "metadata": {},
     "output_type": "display_data"
    },
    {
     "data": {
      "text/latex": [
       "$\\displaystyle odds_{Purchase, Male} = \\frac{P_m}{1-P_m} = \\frac{N_{P, m}}{N_{\\bar P, m}}$"
      ],
      "text/plain": [
       "<IPython.core.display.Math object>"
      ]
     },
     "metadata": {},
     "output_type": "display_data"
    },
    {
     "data": {
      "text/latex": [
       "$\\displaystyle odds_{Purchase, Female} = \\frac{P_f}{1-P_f} = \\frac{N_{P, f}}{N_{\\bar P, f}}$"
      ],
      "text/plain": [
       "<IPython.core.display.Math object>"
      ]
     },
     "metadata": {},
     "output_type": "display_data"
    }
   ],
   "source": [
    "display(Math(r'P_m = \\ probabilidad\\ de\\ compra\\ sabiendo\\ que\\ es\\ un\\ hombre.'))\n",
    "display(Math(r'P_f = \\ probabilidad\\ de\\ compra\\ sabiendo\\ que\\ es\\ una\\ mujer.'))\n",
    "display(Math(r'odds\\in[0,+\\infty]'))\n",
    "display(Math(r'odds_{Purchase, Male} = \\frac{P_m}{1-P_m} = \\frac{N_{P, m}}{N_{\\bar P, m}}'))\n",
    "display(Math(r'odds_{Purchase, Female} = \\frac{P_f}{1-P_f} = \\frac{N_{P, f}}{N_{\\bar P, f}}'))"
   ]
  },
  {
   "cell_type": "code",
   "execution_count": 23,
   "id": "9fe8a163",
   "metadata": {},
   "outputs": [
    {
     "data": {
      "text/plain": [
       "0.9680000000000002"
      ]
     },
     "execution_count": 23,
     "metadata": {},
     "output_type": "execute_result"
    }
   ],
   "source": [
    "P_m= 121/246\n",
    "odds_m= P_m/(1-P_m)    #121/125\n",
    "odds_m"
   ]
  },
  {
   "cell_type": "code",
   "execution_count": 25,
   "id": "e34ddfbe",
   "metadata": {},
   "outputs": [
    {
     "data": {
      "text/plain": [
       "1.4999999999999998"
      ]
     },
     "execution_count": 25,
     "metadata": {},
     "output_type": "execute_result"
    }
   ],
   "source": [
    "P_f= 159/265\n",
    "odds_f= P_f/(1-P_f)    #159/106\n",
    "odds_f"
   ]
  },
  {
   "cell_type": "markdown",
   "id": "4d0cb77e",
   "metadata": {},
   "source": [
    "* Si el cociente de probabilidad es mayor a 1 indica que la probabilidad de éxito es mayor a la probabilidad de fracaso. Cuanto mayor es el ratio, mayor es la probabilidad de éxito en el suceso.\n",
    "* Si el ratio es igual a 1 el éxito y el fracaso son equiprobables.\n",
    "* Si el ratio es menor a 1 la probabilidad de fracaso es mayor que la de éxito. Y mientras menor sea el ratio menor será la probabilidad de éxito del suceso."
   ]
  },
  {
   "cell_type": "code",
   "execution_count": 29,
   "id": "152044b4",
   "metadata": {},
   "outputs": [
    {
     "data": {
      "text/latex": [
       "$\\displaystyle odds_{ratio} = \\frac{odds_{Purchase, Male}}{odds_{Purchase, Female}} $"
      ],
      "text/plain": [
       "<IPython.core.display.Math object>"
      ]
     },
     "metadata": {},
     "output_type": "display_data"
    }
   ],
   "source": [
    "display(Math(r'odds_{ratio} = \\frac{odds_{Purchase, Male}}{odds_{Purchase, Female}} '))"
   ]
  },
  {
   "cell_type": "code",
   "execution_count": 31,
   "id": "938d4371",
   "metadata": {},
   "outputs": [
    {
     "data": {
      "text/plain": [
       "0.6453333333333335"
      ]
     },
     "execution_count": 31,
     "metadata": {},
     "output_type": "execute_result"
    }
   ],
   "source": [
    "odds_r= odds_m/odds_f\n",
    "odds_r"
   ]
  },
  {
   "cell_type": "markdown",
   "id": "629e993a",
   "metadata": {},
   "source": [
    "El ratio de mujer es mayor al ratio de hombres."
   ]
  },
  {
   "cell_type": "markdown",
   "id": "06d5770a",
   "metadata": {},
   "source": [
    "## Regresión logística desde la regresión lineal\n",
    "\n",
    "* En la regresión lineal:"
   ]
  },
  {
   "cell_type": "code",
   "execution_count": 32,
   "id": "1bed4bfe",
   "metadata": {},
   "outputs": [
    {
     "data": {
      "text/latex": [
       "$\\displaystyle y = \\alpha + \\beta \\cdot x$"
      ],
      "text/plain": [
       "<IPython.core.display.Math object>"
      ]
     },
     "metadata": {},
     "output_type": "display_data"
    },
    {
     "data": {
      "text/latex": [
       "$\\displaystyle (x,y)\\in[-\\infty, +\\infty]^2$"
      ],
      "text/plain": [
       "<IPython.core.display.Math object>"
      ]
     },
     "metadata": {},
     "output_type": "display_data"
    }
   ],
   "source": [
    "display(Math(r'y = \\alpha + \\beta \\cdot x'))\n",
    "display(Math(r'(x,y)\\in[-\\infty, +\\infty]^2'))"
   ]
  },
  {
   "cell_type": "markdown",
   "id": "0dc4ff6b",
   "metadata": {},
   "source": [
    "* En la regresión logística:"
   ]
  },
  {
   "cell_type": "code",
   "execution_count": 34,
   "id": "aa38df81",
   "metadata": {},
   "outputs": [
    {
     "data": {
      "text/latex": [
       "$\\displaystyle y\\in{0, 1}$"
      ],
      "text/plain": [
       "<IPython.core.display.Math object>"
      ]
     },
     "metadata": {},
     "output_type": "display_data"
    },
    {
     "data": {
      "text/latex": [
       "$\\displaystyle p\\in [0,1]$"
      ],
      "text/plain": [
       "<IPython.core.display.Math object>"
      ]
     },
     "metadata": {},
     "output_type": "display_data"
    },
    {
     "data": {
      "text/latex": [
       "$\\displaystyle x\\in [-\\infty,+\\infty]$"
      ],
      "text/plain": [
       "<IPython.core.display.Math object>"
      ]
     },
     "metadata": {},
     "output_type": "display_data"
    },
    {
     "data": {
      "text/latex": [
       "$\\displaystyle P = \\alpha + \\beta\\cdot x$"
      ],
      "text/plain": [
       "<IPython.core.display.Math object>"
      ]
     },
     "metadata": {},
     "output_type": "display_data"
    }
   ],
   "source": [
    "display(Math(r'y\\in{0, 1}'))\n",
    "display(Math(r'p\\in [0,1]'))\n",
    "display(Math(r'x\\in [-\\infty,+\\infty]'))\n",
    "display(Math(r'P = \\alpha + \\beta\\cdot x'))"
   ]
  },
  {
   "cell_type": "markdown",
   "id": "bf4940b1",
   "metadata": {},
   "source": [
    "P es la probabilidad de éxito o fracaso condicionada a la presencia de la variable x."
   ]
  },
  {
   "cell_type": "code",
   "execution_count": 35,
   "id": "ec8f1b63",
   "metadata": {},
   "outputs": [
    {
     "data": {
      "text/latex": [
       "$\\displaystyle \\frac{P}{1-P}= \\alpha + \\beta \\cdot x\\in [0, +\\infty]$"
      ],
      "text/plain": [
       "<IPython.core.display.Math object>"
      ]
     },
     "metadata": {},
     "output_type": "display_data"
    }
   ],
   "source": [
    "display(Math(r'\\frac{P}{1-P}= \\alpha + \\beta \\cdot x\\in [0, +\\infty]'))"
   ]
  },
  {
   "cell_type": "code",
   "execution_count": 42,
   "id": "2b95a1fc",
   "metadata": {},
   "outputs": [
    {
     "data": {
      "text/latex": [
       "$\\displaystyle ln(\\frac{P}{1-P}) = \\alpha + \\beta\\cdot x$"
      ],
      "text/plain": [
       "<IPython.core.display.Math object>"
      ]
     },
     "metadata": {},
     "output_type": "display_data"
    }
   ],
   "source": [
    "display(Math(r'ln(\\frac{P}{1-P}) = \\alpha + \\beta\\cdot x'))"
   ]
  },
  {
   "cell_type": "code",
   "execution_count": 41,
   "id": "963eb69b",
   "metadata": {},
   "outputs": [
    {
     "data": {
      "text/latex": [
       "$\\displaystyle \\begin{cases}\\frac{P}{1-P}\\in[0,1]\\Rightarrow ln(\\frac{P}{1-P})\\in[-\\infty, 0]\\\\ \\frac{P}{1-P}\\in[1,+\\infty]\\Rightarrow ln(\\frac{P}{1-P})\\in[0,+\\infty]\\end{cases}$"
      ],
      "text/plain": [
       "<IPython.core.display.Math object>"
      ]
     },
     "metadata": {},
     "output_type": "display_data"
    }
   ],
   "source": [
    "display(Math(r'\\begin{cases}\\frac{P}{1-P}\\in[0,1]\\Rightarrow ln(\\frac{P}{1-P})\\in[-\\infty, 0]\\\\ \\frac{P}{1-P}\\in[1,+\\infty]\\Rightarrow ln(\\frac{P}{1-P})\\in[0,+\\infty]\\end{cases}'))"
   ]
  },
  {
   "cell_type": "code",
   "execution_count": 46,
   "id": "e71bf6e0",
   "metadata": {},
   "outputs": [
    {
     "data": {
      "text/latex": [
       "$\\displaystyle ln(\\frac{P}{1-P}) = \\alpha + \\beta\\cdot x$"
      ],
      "text/plain": [
       "<IPython.core.display.Math object>"
      ]
     },
     "metadata": {},
     "output_type": "display_data"
    },
    {
     "data": {
      "text/latex": [
       "$\\displaystyle \\frac{P}{1-P} = e^{\\alpha + \\beta\\cdot x}$"
      ],
      "text/plain": [
       "<IPython.core.display.Math object>"
      ]
     },
     "metadata": {},
     "output_type": "display_data"
    },
    {
     "data": {
      "text/latex": [
       "$\\displaystyle P = \\frac{e^{\\alpha + \\beta\\cdot x}}{1+e^{\\alpha + \\beta\\cdot x}}$"
      ],
      "text/plain": [
       "<IPython.core.display.Math object>"
      ]
     },
     "metadata": {},
     "output_type": "display_data"
    },
    {
     "data": {
      "text/latex": [
       "$\\displaystyle P = \\frac{1}{1+e^{-(\\alpha + \\beta\\cdot x)}}$"
      ],
      "text/plain": [
       "<IPython.core.display.Math object>"
      ]
     },
     "metadata": {},
     "output_type": "display_data"
    }
   ],
   "source": [
    "display(Math(r'ln(\\frac{P}{1-P}) = \\alpha + \\beta\\cdot x'))\n",
    "display(Math(r'\\frac{P}{1-P} = e^{\\alpha + \\beta\\cdot x}'))\n",
    "display(Math(r'P = \\frac{e^{\\alpha + \\beta\\cdot x}}{1+e^{\\alpha + \\beta\\cdot x}}'))\n",
    "display(Math(r'P = \\frac{1}{1+e^{-(\\alpha + \\beta\\cdot x)}}'))"
   ]
  },
  {
   "cell_type": "markdown",
   "id": "892655b9",
   "metadata": {},
   "source": [
    "* Si $\\alpha + \\beta\\cdot x$ es muy pequeño (negativo), entonces P tiende a 0\n",
    "* Si $\\alpha + \\beta\\cdot x$ es cero, entonces P es igual a 0.5\n",
    "* Si $\\alpha + \\beta\\cdot x$ es muy grande (positivo), entonces P tiende a 1"
   ]
  },
  {
   "cell_type": "markdown",
   "id": "a32b9c95",
   "metadata": {},
   "source": [
    "### Regresión logística múltiple"
   ]
  },
  {
   "cell_type": "code",
   "execution_count": 47,
   "id": "d833d4b5",
   "metadata": {},
   "outputs": [
    {
     "data": {
      "text/latex": [
       "$\\displaystyle P = \\frac{1}{1+e^{-(\\alpha + \\sum_{i=1}^n\\beta_i\\cdot x_i)}}$"
      ],
      "text/plain": [
       "<IPython.core.display.Math object>"
      ]
     },
     "metadata": {},
     "output_type": "display_data"
    }
   ],
   "source": [
    "display(Math(r'P = \\frac{1}{1+e^{-(\\alpha + \\sum_{i=1}^n\\beta_i\\cdot x_i)}}'))"
   ]
  },
  {
   "cell_type": "code",
   "execution_count": 49,
   "id": "6a3fb50b",
   "metadata": {},
   "outputs": [
    {
     "data": {
      "text/latex": [
       "$\\displaystyle \\vec\\beta = (\\beta_1, \\beta_2,\\cdots, \\beta_n)$"
      ],
      "text/plain": [
       "<IPython.core.display.Math object>"
      ]
     },
     "metadata": {},
     "output_type": "display_data"
    },
    {
     "data": {
      "text/latex": [
       "$\\displaystyle \\vec X = (x_1, x_2,\\cdots, x_n)$"
      ],
      "text/plain": [
       "<IPython.core.display.Math object>"
      ]
     },
     "metadata": {},
     "output_type": "display_data"
    },
    {
     "data": {
      "text/latex": [
       "$\\displaystyle P = \\frac{1}{1+e^{-(\\alpha + \\vec\\beta\\cdot \\vec X)}}$"
      ],
      "text/plain": [
       "<IPython.core.display.Math object>"
      ]
     },
     "metadata": {},
     "output_type": "display_data"
    }
   ],
   "source": [
    "display(Math(r'\\vec\\beta = (\\beta_1, \\beta_2,\\cdots, \\beta_n)'))\n",
    "display(Math(r'\\vec X = (x_1, x_2,\\cdots, x_n)'))\n",
    "display(Math(r'P = \\frac{1}{1+e^{-(\\alpha + \\vec\\beta\\cdot \\vec X)}}'))"
   ]
  }
 ],
 "metadata": {
  "kernelspec": {
   "display_name": "Python 3",
   "language": "python",
   "name": "python3"
  },
  "language_info": {
   "codemirror_mode": {
    "name": "ipython",
    "version": 3
   },
   "file_extension": ".py",
   "mimetype": "text/x-python",
   "name": "python",
   "nbconvert_exporter": "python",
   "pygments_lexer": "ipython3",
   "version": "3.8.10"
  }
 },
 "nbformat": 4,
 "nbformat_minor": 5
}
